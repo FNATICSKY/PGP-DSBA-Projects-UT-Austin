{
 "cells": [
  {
   "cell_type": "markdown",
   "metadata": {},
   "source": [
    "<h1 > \n",
    "    <center> Project - Advanced Statistics\n",
    "    </center>\n",
    "</h1>"
   ]
  },
  {
   "cell_type": "code",
   "execution_count": 149,
   "metadata": {},
   "outputs": [],
   "source": [
    "import pandas as pd\n",
    "import numpy as np\n",
    "import matplotlib.pyplot as plt\n",
    "import warnings\n",
    "warnings.filterwarnings(\"ignore\")\n",
    "from scipy import stats\n",
    "import statsmodels.api as sm \n",
    "from statsmodels.formula.api import ols\n",
    "from statsmodels.graphics.factorplots import interaction_plot \n",
    "import matplotlib.pyplot as plt \n",
    "import seaborn as sns\n",
    "from sklearn.preprocessing import MinMaxScaler"
   ]
  },
  {
   "cell_type": "markdown",
   "metadata": {},
   "source": [
    "<h2> \n",
    "    <center> Problem 1A\n",
    "    </center>\n",
    "</h2>"
   ]
  },
  {
   "cell_type": "code",
   "execution_count": 3,
   "metadata": {},
   "outputs": [],
   "source": [
    "df_1 = pd.read_csv('SalaryData.csv')"
   ]
  },
  {
   "cell_type": "code",
   "execution_count": 4,
   "metadata": {},
   "outputs": [
    {
     "data": {
      "text/html": [
       "<div>\n",
       "<style scoped>\n",
       "    .dataframe tbody tr th:only-of-type {\n",
       "        vertical-align: middle;\n",
       "    }\n",
       "\n",
       "    .dataframe tbody tr th {\n",
       "        vertical-align: top;\n",
       "    }\n",
       "\n",
       "    .dataframe thead th {\n",
       "        text-align: right;\n",
       "    }\n",
       "</style>\n",
       "<table border=\"1\" class=\"dataframe\">\n",
       "  <thead>\n",
       "    <tr style=\"text-align: right;\">\n",
       "      <th></th>\n",
       "      <th>Education</th>\n",
       "      <th>Occupation</th>\n",
       "      <th>Salary</th>\n",
       "    </tr>\n",
       "  </thead>\n",
       "  <tbody>\n",
       "    <tr>\n",
       "      <th>0</th>\n",
       "      <td>Doctorate</td>\n",
       "      <td>Adm-clerical</td>\n",
       "      <td>153197</td>\n",
       "    </tr>\n",
       "    <tr>\n",
       "      <th>1</th>\n",
       "      <td>Doctorate</td>\n",
       "      <td>Adm-clerical</td>\n",
       "      <td>115945</td>\n",
       "    </tr>\n",
       "    <tr>\n",
       "      <th>2</th>\n",
       "      <td>Doctorate</td>\n",
       "      <td>Adm-clerical</td>\n",
       "      <td>175935</td>\n",
       "    </tr>\n",
       "    <tr>\n",
       "      <th>3</th>\n",
       "      <td>Doctorate</td>\n",
       "      <td>Adm-clerical</td>\n",
       "      <td>220754</td>\n",
       "    </tr>\n",
       "    <tr>\n",
       "      <th>4</th>\n",
       "      <td>Doctorate</td>\n",
       "      <td>Sales</td>\n",
       "      <td>170769</td>\n",
       "    </tr>\n",
       "  </tbody>\n",
       "</table>\n",
       "</div>"
      ],
      "text/plain": [
       "    Education     Occupation  Salary\n",
       "0   Doctorate   Adm-clerical  153197\n",
       "1   Doctorate   Adm-clerical  115945\n",
       "2   Doctorate   Adm-clerical  175935\n",
       "3   Doctorate   Adm-clerical  220754\n",
       "4   Doctorate          Sales  170769"
      ]
     },
     "execution_count": 4,
     "metadata": {},
     "output_type": "execute_result"
    }
   ],
   "source": [
    "df_1.head()"
   ]
  },
  {
   "cell_type": "code",
   "execution_count": 5,
   "metadata": {},
   "outputs": [
    {
     "data": {
      "text/html": [
       "<div>\n",
       "<style scoped>\n",
       "    .dataframe tbody tr th:only-of-type {\n",
       "        vertical-align: middle;\n",
       "    }\n",
       "\n",
       "    .dataframe tbody tr th {\n",
       "        vertical-align: top;\n",
       "    }\n",
       "\n",
       "    .dataframe thead th {\n",
       "        text-align: right;\n",
       "    }\n",
       "</style>\n",
       "<table border=\"1\" class=\"dataframe\">\n",
       "  <thead>\n",
       "    <tr style=\"text-align: right;\">\n",
       "      <th></th>\n",
       "      <th>Salary</th>\n",
       "    </tr>\n",
       "  </thead>\n",
       "  <tbody>\n",
       "    <tr>\n",
       "      <th>count</th>\n",
       "      <td>40.000000</td>\n",
       "    </tr>\n",
       "    <tr>\n",
       "      <th>mean</th>\n",
       "      <td>162186.875000</td>\n",
       "    </tr>\n",
       "    <tr>\n",
       "      <th>std</th>\n",
       "      <td>64860.407506</td>\n",
       "    </tr>\n",
       "    <tr>\n",
       "      <th>min</th>\n",
       "      <td>50103.000000</td>\n",
       "    </tr>\n",
       "    <tr>\n",
       "      <th>25%</th>\n",
       "      <td>99897.500000</td>\n",
       "    </tr>\n",
       "    <tr>\n",
       "      <th>50%</th>\n",
       "      <td>169100.000000</td>\n",
       "    </tr>\n",
       "    <tr>\n",
       "      <th>75%</th>\n",
       "      <td>214440.750000</td>\n",
       "    </tr>\n",
       "    <tr>\n",
       "      <th>max</th>\n",
       "      <td>260151.000000</td>\n",
       "    </tr>\n",
       "  </tbody>\n",
       "</table>\n",
       "</div>"
      ],
      "text/plain": [
       "              Salary\n",
       "count      40.000000\n",
       "mean   162186.875000\n",
       "std     64860.407506\n",
       "min     50103.000000\n",
       "25%     99897.500000\n",
       "50%    169100.000000\n",
       "75%    214440.750000\n",
       "max    260151.000000"
      ]
     },
     "execution_count": 5,
     "metadata": {},
     "output_type": "execute_result"
    }
   ],
   "source": [
    "df_1.describe()"
   ]
  },
  {
   "cell_type": "markdown",
   "metadata": {},
   "source": [
    "**1A.1 State the null and the alternate hypothesis for conducting one-way ANOVA for both Education and Occupation individually.**\n",
    "\n",
    "**Education:**\n",
    "\n",
    "- H0: Salary depend on education qualification\n",
    "- H1: Salary does not depend on education\n",
    "- Confidence level = 0.05\n",
    "\n",
    "**Occupation:**\n",
    "\n",
    "- H0: Salary depend on occupation\n",
    "- H1: Salary does not depend on occupation\n",
    "- Confidence level = 0.05"
   ]
  },
  {
   "cell_type": "markdown",
   "metadata": {},
   "source": [
    "**1A.2 Perform a one-way ANOVA on Salary with respect to Education. State whether the null hypothesis is accepted or rejected based on the ANOVA results.**"
   ]
  },
  {
   "cell_type": "code",
   "execution_count": 64,
   "metadata": {},
   "outputs": [],
   "source": [
    "df_2 = df_1[[\"Education\",\"Salary\"]]\n",
    "\n",
    "high_school_graduate = df_2[df_2.Education==' HS-grad'][\"Salary\"]\n",
    "\n",
    "bachelor = df_2[df_2.Education==' Bachelors'][\"Salary\"]\n",
    "\n",
    "doctorate = df_2[df_2.Education==' Doctorate'][\"Salary\"]"
   ]
  },
  {
   "cell_type": "code",
   "execution_count": 66,
   "metadata": {},
   "outputs": [
    {
     "data": {
      "text/plain": [
       "ShapiroResult(statistic=0.885286271572113, pvalue=0.1783432960510254)"
      ]
     },
     "execution_count": 66,
     "metadata": {},
     "output_type": "execute_result"
    }
   ],
   "source": [
    "stats.shapiro(high_school_graduate)"
   ]
  },
  {
   "cell_type": "code",
   "execution_count": 67,
   "metadata": {},
   "outputs": [
    {
     "data": {
      "text/plain": [
       "ShapiroResult(statistic=0.9607304334640503, pvalue=0.7050924301147461)"
      ]
     },
     "execution_count": 67,
     "metadata": {},
     "output_type": "execute_result"
    }
   ],
   "source": [
    "stats.shapiro(bachelor)"
   ]
  },
  {
   "cell_type": "code",
   "execution_count": 68,
   "metadata": {},
   "outputs": [
    {
     "data": {
      "text/plain": [
       "ShapiroResult(statistic=0.8952829837799072, pvalue=0.0675690770149231)"
      ]
     },
     "execution_count": 68,
     "metadata": {},
     "output_type": "execute_result"
    }
   ],
   "source": [
    "stats.shapiro(doctorate)"
   ]
  },
  {
   "cell_type": "code",
   "execution_count": 69,
   "metadata": {},
   "outputs": [],
   "source": [
    "F, p = stats.f_oneway(high_school_graduate, bachelor, doctorate)"
   ]
  },
  {
   "cell_type": "code",
   "execution_count": 74,
   "metadata": {},
   "outputs": [
    {
     "name": "stdout",
     "output_type": "stream",
     "text": [
      "F Statistic is 30.956 and P is 0.0000000126\n"
     ]
    }
   ],
   "source": [
    "print('F Statistic is {:5.3f} and P is {:5.10f}'.format(F, p))"
   ]
  },
  {
   "cell_type": "markdown",
   "metadata": {},
   "source": [
    "**1A.2 Inference:** Since P Value is less than 0.05 we **reject Null Hyposthesis**"
   ]
  },
  {
   "cell_type": "markdown",
   "metadata": {},
   "source": [
    "**1A.3 Perform a one-way ANOVA on Salary with respect to Occupation. State whether the null hypothesis is accepted or rejected based on the ANOVA results.**"
   ]
  },
  {
   "cell_type": "code",
   "execution_count": 83,
   "metadata": {},
   "outputs": [],
   "source": [
    "df_3 = df_1[[\"Occupation\",\"Salary\"]]\n",
    "\n",
    "Adm_clerical = df_3[df_3.Occupation==' Adm-clerical'][\"Salary\"]\n",
    "\n",
    "Sales = df_3[df_3.Occupation==' Sales'][\"Salary\"]\n",
    "\n",
    "Prof_specialty = df_3[df_3.Occupation==' Prof-specialty'][\"Salary\"]\n",
    "\n",
    "Exec_managerial = df_3[df_3.Occupation==' Exec-managerial'][\"Salary\"]"
   ]
  },
  {
   "cell_type": "code",
   "execution_count": 89,
   "metadata": {},
   "outputs": [
    {
     "data": {
      "text/plain": [
       "ShapiroResult(statistic=0.9189430475234985, pvalue=0.34822404384613037)"
      ]
     },
     "execution_count": 89,
     "metadata": {},
     "output_type": "execute_result"
    }
   ],
   "source": [
    "stats.shapiro(Adm_clerical)"
   ]
  },
  {
   "cell_type": "code",
   "execution_count": 90,
   "metadata": {},
   "outputs": [
    {
     "data": {
      "text/plain": [
       "ShapiroResult(statistic=0.8897126913070679, pvalue=0.11683900654315948)"
      ]
     },
     "execution_count": 90,
     "metadata": {},
     "output_type": "execute_result"
    }
   ],
   "source": [
    "stats.shapiro(Sales)"
   ]
  },
  {
   "cell_type": "code",
   "execution_count": 91,
   "metadata": {},
   "outputs": [
    {
     "data": {
      "text/plain": [
       "ShapiroResult(statistic=0.736305832862854, pvalue=0.0013131146552041173)"
      ]
     },
     "execution_count": 91,
     "metadata": {},
     "output_type": "execute_result"
    }
   ],
   "source": [
    "stats.shapiro(Prof_specialty)"
   ]
  },
  {
   "cell_type": "code",
   "execution_count": 92,
   "metadata": {},
   "outputs": [
    {
     "data": {
      "text/plain": [
       "ShapiroResult(statistic=0.6901877522468567, pvalue=0.007539781276136637)"
      ]
     },
     "execution_count": 92,
     "metadata": {},
     "output_type": "execute_result"
    }
   ],
   "source": [
    "stats.shapiro(Exec_managerial)"
   ]
  },
  {
   "cell_type": "code",
   "execution_count": 93,
   "metadata": {},
   "outputs": [],
   "source": [
    "F, p = stats.f_oneway(Adm_clerical, Sales, Prof_specialty, Exec_managerial)"
   ]
  },
  {
   "cell_type": "code",
   "execution_count": 94,
   "metadata": {},
   "outputs": [
    {
     "name": "stdout",
     "output_type": "stream",
     "text": [
      "F Statistic is 0.884 and P is 0.4585078266\n"
     ]
    }
   ],
   "source": [
    "print('F Statistic is {:5.3f} and P is {:5.10f}'.format(F, p))"
   ]
  },
  {
   "cell_type": "markdown",
   "metadata": {},
   "source": [
    "**1A.3 Inference:** Since P Value is less than 0.05 we **reject Null Hyposthesis**"
   ]
  },
  {
   "cell_type": "markdown",
   "metadata": {},
   "source": [
    "<h2> \n",
    "    <center> Problem 1B\n",
    "    </center>\n",
    "</h2>"
   ]
  },
  {
   "cell_type": "markdown",
   "metadata": {},
   "source": [
    "**1B.1 What is the interaction between two treatments? Analyze the effects of one variable on the other (Education and Occupation) with the help of an interaction plot.[hint: use the ‘pointplot’ function from the ‘seaborn’ function]**"
   ]
  },
  {
   "cell_type": "code",
   "execution_count": 99,
   "metadata": {},
   "outputs": [],
   "source": [
    "sns.set()"
   ]
  },
  {
   "cell_type": "code",
   "execution_count": 103,
   "metadata": {
    "scrolled": true
   },
   "outputs": [
    {
     "data": {
      "text/plain": [
       "<AxesSubplot:xlabel='Occupation', ylabel='Salary'>"
      ]
     },
     "execution_count": 103,
     "metadata": {},
     "output_type": "execute_result"
    },
    {
     "data": {
      "image/png": "[encoded data removed]",
      "text/plain": [
       "<Figure size 432x288 with 1 Axes>"
      ]
     },
     "metadata": {},
     "output_type": "display_data"
    }
   ],
   "source": [
    "sns.pointplot(data=df_1, x=\"Occupation\", y=\"Salary\", hue=\"Education\")"
   ]
  },
  {
   "cell_type": "markdown",
   "metadata": {},
   "source": [
    "**1B.1 Inference**: Adm-clerical and Sales people with Bachelors and Doctorate Degrees earn almost similar salary\n",
    "packages"
   ]
  },
  {
   "cell_type": "markdown",
   "metadata": {},
   "source": [
    "**1B.2 Perform a two-way ANOVA based on Salary with respect to both Education and Occupation (along with their interaction Education*Occupation). State the null and alternative hypotheses and state your results. How will you interpret this result?**"
   ]
  },
  {
   "cell_type": "markdown",
   "metadata": {},
   "source": [
    "- H0: Salary depends on both Education and Occupation\n",
    "- H1: Salary does not depend on at least one of Education and Occupation\n",
    "- Confidence level = 0.05"
   ]
  },
  {
   "cell_type": "code",
   "execution_count": 104,
   "metadata": {},
   "outputs": [
    {
     "data": {
      "text/html": [
       "<div>\n",
       "<style scoped>\n",
       "    .dataframe tbody tr th:only-of-type {\n",
       "        vertical-align: middle;\n",
       "    }\n",
       "\n",
       "    .dataframe tbody tr th {\n",
       "        vertical-align: top;\n",
       "    }\n",
       "\n",
       "    .dataframe thead th {\n",
       "        text-align: right;\n",
       "    }\n",
       "</style>\n",
       "<table border=\"1\" class=\"dataframe\">\n",
       "  <thead>\n",
       "    <tr style=\"text-align: right;\">\n",
       "      <th></th>\n",
       "      <th>sum_sq</th>\n",
       "      <th>df</th>\n",
       "      <th>F</th>\n",
       "      <th>PR(&gt;F)</th>\n",
       "    </tr>\n",
       "  </thead>\n",
       "  <tbody>\n",
       "    <tr>\n",
       "      <th>C(Education)</th>\n",
       "      <td>1.938753e+11</td>\n",
       "      <td>2.0</td>\n",
       "      <td>136.326521</td>\n",
       "      <td>1.756909e-12</td>\n",
       "    </tr>\n",
       "    <tr>\n",
       "      <th>C(Occupation)</th>\n",
       "      <td>4.077417e+08</td>\n",
       "      <td>3.0</td>\n",
       "      <td>0.191140</td>\n",
       "      <td>8.270491e-01</td>\n",
       "    </tr>\n",
       "    <tr>\n",
       "      <th>C(Education):C(Occupation)</th>\n",
       "      <td>4.227791e+10</td>\n",
       "      <td>6.0</td>\n",
       "      <td>9.909463</td>\n",
       "      <td>1.323371e-05</td>\n",
       "    </tr>\n",
       "    <tr>\n",
       "      <th>Residual</th>\n",
       "      <td>2.062102e+10</td>\n",
       "      <td>29.0</td>\n",
       "      <td>NaN</td>\n",
       "      <td>NaN</td>\n",
       "    </tr>\n",
       "  </tbody>\n",
       "</table>\n",
       "</div>"
      ],
      "text/plain": [
       "                                  sum_sq    df           F        PR(>F)\n",
       "C(Education)                1.938753e+11   2.0  136.326521  1.756909e-12\n",
       "C(Occupation)               4.077417e+08   3.0    0.191140  8.270491e-01\n",
       "C(Education):C(Occupation)  4.227791e+10   6.0    9.909463  1.323371e-05\n",
       "Residual                    2.062102e+10  29.0         NaN           NaN"
      ]
     },
     "execution_count": 104,
     "metadata": {},
     "output_type": "execute_result"
    }
   ],
   "source": [
    "model = ols(' Salary ~ C(Education) + C(Occupation)+C(Education) : C(Occupation) ' , data = df_1).fit() \n",
    "sm.stats.anova_lm(model, typ=2)"
   ]
  },
  {
   "cell_type": "markdown",
   "metadata": {},
   "source": [
    "**1B.2 Inference**: Education is a significant factor as the P value is <0.05, whereas Occupation is not a significant variable as P value of it is >0.05"
   ]
  },
  {
   "cell_type": "markdown",
   "metadata": {},
   "source": [
    "**1B.3**: It can be concluded that Education is a significant factor. **Salary is dependent on occupation.** "
   ]
  },
  {
   "cell_type": "markdown",
   "metadata": {},
   "source": [
    "<h2> \n",
    "    <center> Problem 2\n",
    "    </center>\n",
    "</h2>"
   ]
  },
  {
   "cell_type": "markdown",
   "metadata": {},
   "source": [
    "**2.1 Perform Exploratory Data Analysis [both univariate and multivariate analysis to be performed]. What insight do you draw from the EDA?**"
   ]
  },
  {
   "cell_type": "code",
   "execution_count": 107,
   "metadata": {},
   "outputs": [],
   "source": [
    "df_3 = pd.read_csv(\"Education+-+Post+12th+Standard.csv\")"
   ]
  },
  {
   "cell_type": "code",
   "execution_count": 131,
   "metadata": {},
   "outputs": [
    {
     "data": {
      "text/html": [
       "<div>\n",
       "<style scoped>\n",
       "    .dataframe tbody tr th:only-of-type {\n",
       "        vertical-align: middle;\n",
       "    }\n",
       "\n",
       "    .dataframe tbody tr th {\n",
       "        vertical-align: top;\n",
       "    }\n",
       "\n",
       "    .dataframe thead th {\n",
       "        text-align: right;\n",
       "    }\n",
       "</style>\n",
       "<table border=\"1\" class=\"dataframe\">\n",
       "  <thead>\n",
       "    <tr style=\"text-align: right;\">\n",
       "      <th></th>\n",
       "      <th>Names</th>\n",
       "      <th>Apps</th>\n",
       "      <th>Accept</th>\n",
       "      <th>Enroll</th>\n",
       "      <th>Top10perc</th>\n",
       "      <th>Top25perc</th>\n",
       "      <th>F.Undergrad</th>\n",
       "      <th>P.Undergrad</th>\n",
       "      <th>Outstate</th>\n",
       "      <th>Room.Board</th>\n",
       "      <th>Books</th>\n",
       "      <th>Personal</th>\n",
       "      <th>PhD</th>\n",
       "      <th>Terminal</th>\n",
       "      <th>S.F.Ratio</th>\n",
       "      <th>perc.alumni</th>\n",
       "      <th>Expend</th>\n",
       "      <th>Grad.Rate</th>\n",
       "    </tr>\n",
       "  </thead>\n",
       "  <tbody>\n",
       "    <tr>\n",
       "      <th>0</th>\n",
       "      <td>Abilene Christian University</td>\n",
       "      <td>1660</td>\n",
       "      <td>1232</td>\n",
       "      <td>721</td>\n",
       "      <td>23</td>\n",
       "      <td>52</td>\n",
       "      <td>2885</td>\n",
       "      <td>537</td>\n",
       "      <td>7440</td>\n",
       "      <td>3300</td>\n",
       "      <td>450</td>\n",
       "      <td>2200</td>\n",
       "      <td>70</td>\n",
       "      <td>78</td>\n",
       "      <td>18.1</td>\n",
       "      <td>12</td>\n",
       "      <td>7041</td>\n",
       "      <td>60</td>\n",
       "    </tr>\n",
       "    <tr>\n",
       "      <th>1</th>\n",
       "      <td>Adelphi University</td>\n",
       "      <td>2186</td>\n",
       "      <td>1924</td>\n",
       "      <td>512</td>\n",
       "      <td>16</td>\n",
       "      <td>29</td>\n",
       "      <td>2683</td>\n",
       "      <td>1227</td>\n",
       "      <td>12280</td>\n",
       "      <td>6450</td>\n",
       "      <td>750</td>\n",
       "      <td>1500</td>\n",
       "      <td>29</td>\n",
       "      <td>30</td>\n",
       "      <td>12.2</td>\n",
       "      <td>16</td>\n",
       "      <td>10527</td>\n",
       "      <td>56</td>\n",
       "    </tr>\n",
       "    <tr>\n",
       "      <th>2</th>\n",
       "      <td>Adrian College</td>\n",
       "      <td>1428</td>\n",
       "      <td>1097</td>\n",
       "      <td>336</td>\n",
       "      <td>22</td>\n",
       "      <td>50</td>\n",
       "      <td>1036</td>\n",
       "      <td>99</td>\n",
       "      <td>11250</td>\n",
       "      <td>3750</td>\n",
       "      <td>400</td>\n",
       "      <td>1165</td>\n",
       "      <td>53</td>\n",
       "      <td>66</td>\n",
       "      <td>12.9</td>\n",
       "      <td>30</td>\n",
       "      <td>8735</td>\n",
       "      <td>54</td>\n",
       "    </tr>\n",
       "    <tr>\n",
       "      <th>3</th>\n",
       "      <td>Agnes Scott College</td>\n",
       "      <td>417</td>\n",
       "      <td>349</td>\n",
       "      <td>137</td>\n",
       "      <td>60</td>\n",
       "      <td>89</td>\n",
       "      <td>510</td>\n",
       "      <td>63</td>\n",
       "      <td>12960</td>\n",
       "      <td>5450</td>\n",
       "      <td>450</td>\n",
       "      <td>875</td>\n",
       "      <td>92</td>\n",
       "      <td>97</td>\n",
       "      <td>7.7</td>\n",
       "      <td>37</td>\n",
       "      <td>19016</td>\n",
       "      <td>59</td>\n",
       "    </tr>\n",
       "    <tr>\n",
       "      <th>4</th>\n",
       "      <td>Alaska Pacific University</td>\n",
       "      <td>193</td>\n",
       "      <td>146</td>\n",
       "      <td>55</td>\n",
       "      <td>16</td>\n",
       "      <td>44</td>\n",
       "      <td>249</td>\n",
       "      <td>869</td>\n",
       "      <td>7560</td>\n",
       "      <td>4120</td>\n",
       "      <td>800</td>\n",
       "      <td>1500</td>\n",
       "      <td>76</td>\n",
       "      <td>72</td>\n",
       "      <td>11.9</td>\n",
       "      <td>2</td>\n",
       "      <td>10922</td>\n",
       "      <td>15</td>\n",
       "    </tr>\n",
       "  </tbody>\n",
       "</table>\n",
       "</div>"
      ],
      "text/plain": [
       "                          Names  Apps  Accept  Enroll  Top10perc  Top25perc  \\\n",
       "0  Abilene Christian University  1660    1232     721         23         52   \n",
       "1            Adelphi University  2186    1924     512         16         29   \n",
       "2                Adrian College  1428    1097     336         22         50   \n",
       "3           Agnes Scott College   417     349     137         60         89   \n",
       "4     Alaska Pacific University   193     146      55         16         44   \n",
       "\n",
       "   F.Undergrad  P.Undergrad  Outstate  Room.Board  Books  Personal  PhD  \\\n",
       "0         2885          537      7440        3300    450      2200   70   \n",
       "1         2683         1227     12280        6450    750      1500   29   \n",
       "2         1036           99     11250        3750    400      1165   53   \n",
       "3          510           63     12960        5450    450       875   92   \n",
       "4          249          869      7560        4120    800      1500   76   \n",
       "\n",
       "   Terminal  S.F.Ratio  perc.alumni  Expend  Grad.Rate  \n",
       "0        78       18.1           12    7041         60  \n",
       "1        30       12.2           16   10527         56  \n",
       "2        66       12.9           30    8735         54  \n",
       "3        97        7.7           37   19016         59  \n",
       "4        72       11.9            2   10922         15  "
      ]
     },
     "execution_count": 131,
     "metadata": {},
     "output_type": "execute_result"
    }
   ],
   "source": [
    "df_3.head()"
   ]
  },
  {
   "cell_type": "code",
   "execution_count": 108,
   "metadata": {},
   "outputs": [
    {
     "data": {
      "text/plain": [
       "Names          0\n",
       "Apps           0\n",
       "Accept         0\n",
       "Enroll         0\n",
       "Top10perc      0\n",
       "Top25perc      0\n",
       "F.Undergrad    0\n",
       "P.Undergrad    0\n",
       "Outstate       0\n",
       "Room.Board     0\n",
       "Books          0\n",
       "Personal       0\n",
       "PhD            0\n",
       "Terminal       0\n",
       "S.F.Ratio      0\n",
       "perc.alumni    0\n",
       "Expend         0\n",
       "Grad.Rate      0\n",
       "dtype: int64"
      ]
     },
     "execution_count": 108,
     "metadata": {},
     "output_type": "execute_result"
    }
   ],
   "source": [
    "df_3.isnull().sum()"
   ]
  },
  {
   "cell_type": "code",
   "execution_count": 109,
   "metadata": {},
   "outputs": [
    {
     "data": {
      "text/html": [
       "<div>\n",
       "<style scoped>\n",
       "    .dataframe tbody tr th:only-of-type {\n",
       "        vertical-align: middle;\n",
       "    }\n",
       "\n",
       "    .dataframe tbody tr th {\n",
       "        vertical-align: top;\n",
       "    }\n",
       "\n",
       "    .dataframe thead th {\n",
       "        text-align: right;\n",
       "    }\n",
       "</style>\n",
       "<table border=\"1\" class=\"dataframe\">\n",
       "  <thead>\n",
       "    <tr style=\"text-align: right;\">\n",
       "      <th></th>\n",
       "      <th>Apps</th>\n",
       "      <th>Accept</th>\n",
       "      <th>Enroll</th>\n",
       "      <th>Top10perc</th>\n",
       "      <th>Top25perc</th>\n",
       "      <th>F.Undergrad</th>\n",
       "      <th>P.Undergrad</th>\n",
       "      <th>Outstate</th>\n",
       "      <th>Room.Board</th>\n",
       "      <th>Books</th>\n",
       "      <th>Personal</th>\n",
       "      <th>PhD</th>\n",
       "      <th>Terminal</th>\n",
       "      <th>S.F.Ratio</th>\n",
       "      <th>perc.alumni</th>\n",
       "      <th>Expend</th>\n",
       "      <th>Grad.Rate</th>\n",
       "    </tr>\n",
       "  </thead>\n",
       "  <tbody>\n",
       "    <tr>\n",
       "      <th>count</th>\n",
       "      <td>777.000000</td>\n",
       "      <td>777.000000</td>\n",
       "      <td>777.000000</td>\n",
       "      <td>777.000000</td>\n",
       "      <td>777.000000</td>\n",
       "      <td>777.000000</td>\n",
       "      <td>777.000000</td>\n",
       "      <td>777.000000</td>\n",
       "      <td>777.000000</td>\n",
       "      <td>777.000000</td>\n",
       "      <td>777.000000</td>\n",
       "      <td>777.000000</td>\n",
       "      <td>777.000000</td>\n",
       "      <td>777.000000</td>\n",
       "      <td>777.000000</td>\n",
       "      <td>777.000000</td>\n",
       "      <td>777.00000</td>\n",
       "    </tr>\n",
       "    <tr>\n",
       "      <th>mean</th>\n",
       "      <td>3001.638353</td>\n",
       "      <td>2018.804376</td>\n",
       "      <td>779.972973</td>\n",
       "      <td>27.558559</td>\n",
       "      <td>55.796654</td>\n",
       "      <td>3699.907336</td>\n",
       "      <td>855.298584</td>\n",
       "      <td>10440.669241</td>\n",
       "      <td>4357.526384</td>\n",
       "      <td>549.380952</td>\n",
       "      <td>1340.642214</td>\n",
       "      <td>72.660232</td>\n",
       "      <td>79.702703</td>\n",
       "      <td>14.089704</td>\n",
       "      <td>22.743887</td>\n",
       "      <td>9660.171171</td>\n",
       "      <td>65.46332</td>\n",
       "    </tr>\n",
       "    <tr>\n",
       "      <th>std</th>\n",
       "      <td>3870.201484</td>\n",
       "      <td>2451.113971</td>\n",
       "      <td>929.176190</td>\n",
       "      <td>17.640364</td>\n",
       "      <td>19.804778</td>\n",
       "      <td>4850.420531</td>\n",
       "      <td>1522.431887</td>\n",
       "      <td>4023.016484</td>\n",
       "      <td>1096.696416</td>\n",
       "      <td>165.105360</td>\n",
       "      <td>677.071454</td>\n",
       "      <td>16.328155</td>\n",
       "      <td>14.722359</td>\n",
       "      <td>3.958349</td>\n",
       "      <td>12.391801</td>\n",
       "      <td>5221.768440</td>\n",
       "      <td>17.17771</td>\n",
       "    </tr>\n",
       "    <tr>\n",
       "      <th>min</th>\n",
       "      <td>81.000000</td>\n",
       "      <td>72.000000</td>\n",
       "      <td>35.000000</td>\n",
       "      <td>1.000000</td>\n",
       "      <td>9.000000</td>\n",
       "      <td>139.000000</td>\n",
       "      <td>1.000000</td>\n",
       "      <td>2340.000000</td>\n",
       "      <td>1780.000000</td>\n",
       "      <td>96.000000</td>\n",
       "      <td>250.000000</td>\n",
       "      <td>8.000000</td>\n",
       "      <td>24.000000</td>\n",
       "      <td>2.500000</td>\n",
       "      <td>0.000000</td>\n",
       "      <td>3186.000000</td>\n",
       "      <td>10.00000</td>\n",
       "    </tr>\n",
       "    <tr>\n",
       "      <th>25%</th>\n",
       "      <td>776.000000</td>\n",
       "      <td>604.000000</td>\n",
       "      <td>242.000000</td>\n",
       "      <td>15.000000</td>\n",
       "      <td>41.000000</td>\n",
       "      <td>992.000000</td>\n",
       "      <td>95.000000</td>\n",
       "      <td>7320.000000</td>\n",
       "      <td>3597.000000</td>\n",
       "      <td>470.000000</td>\n",
       "      <td>850.000000</td>\n",
       "      <td>62.000000</td>\n",
       "      <td>71.000000</td>\n",
       "      <td>11.500000</td>\n",
       "      <td>13.000000</td>\n",
       "      <td>6751.000000</td>\n",
       "      <td>53.00000</td>\n",
       "    </tr>\n",
       "    <tr>\n",
       "      <th>50%</th>\n",
       "      <td>1558.000000</td>\n",
       "      <td>1110.000000</td>\n",
       "      <td>434.000000</td>\n",
       "      <td>23.000000</td>\n",
       "      <td>54.000000</td>\n",
       "      <td>1707.000000</td>\n",
       "      <td>353.000000</td>\n",
       "      <td>9990.000000</td>\n",
       "      <td>4200.000000</td>\n",
       "      <td>500.000000</td>\n",
       "      <td>1200.000000</td>\n",
       "      <td>75.000000</td>\n",
       "      <td>82.000000</td>\n",
       "      <td>13.600000</td>\n",
       "      <td>21.000000</td>\n",
       "      <td>8377.000000</td>\n",
       "      <td>65.00000</td>\n",
       "    </tr>\n",
       "    <tr>\n",
       "      <th>75%</th>\n",
       "      <td>3624.000000</td>\n",
       "      <td>2424.000000</td>\n",
       "      <td>902.000000</td>\n",
       "      <td>35.000000</td>\n",
       "      <td>69.000000</td>\n",
       "      <td>4005.000000</td>\n",
       "      <td>967.000000</td>\n",
       "      <td>12925.000000</td>\n",
       "      <td>5050.000000</td>\n",
       "      <td>600.000000</td>\n",
       "      <td>1700.000000</td>\n",
       "      <td>85.000000</td>\n",
       "      <td>92.000000</td>\n",
       "      <td>16.500000</td>\n",
       "      <td>31.000000</td>\n",
       "      <td>10830.000000</td>\n",
       "      <td>78.00000</td>\n",
       "    </tr>\n",
       "    <tr>\n",
       "      <th>max</th>\n",
       "      <td>48094.000000</td>\n",
       "      <td>26330.000000</td>\n",
       "      <td>6392.000000</td>\n",
       "      <td>96.000000</td>\n",
       "      <td>100.000000</td>\n",
       "      <td>31643.000000</td>\n",
       "      <td>21836.000000</td>\n",
       "      <td>21700.000000</td>\n",
       "      <td>8124.000000</td>\n",
       "      <td>2340.000000</td>\n",
       "      <td>6800.000000</td>\n",
       "      <td>103.000000</td>\n",
       "      <td>100.000000</td>\n",
       "      <td>39.800000</td>\n",
       "      <td>64.000000</td>\n",
       "      <td>56233.000000</td>\n",
       "      <td>118.00000</td>\n",
       "    </tr>\n",
       "  </tbody>\n",
       "</table>\n",
       "</div>"
      ],
      "text/plain": [
       "               Apps        Accept       Enroll   Top10perc   Top25perc  \\\n",
       "count    777.000000    777.000000   777.000000  777.000000  777.000000   \n",
       "mean    3001.638353   2018.804376   779.972973   27.558559   55.796654   \n",
       "std     3870.201484   2451.113971   929.176190   17.640364   19.804778   \n",
       "min       81.000000     72.000000    35.000000    1.000000    9.000000   \n",
       "25%      776.000000    604.000000   242.000000   15.000000   41.000000   \n",
       "50%     1558.000000   1110.000000   434.000000   23.000000   54.000000   \n",
       "75%     3624.000000   2424.000000   902.000000   35.000000   69.000000   \n",
       "max    48094.000000  26330.000000  6392.000000   96.000000  100.000000   \n",
       "\n",
       "        F.Undergrad   P.Undergrad      Outstate   Room.Board        Books  \\\n",
       "count    777.000000    777.000000    777.000000   777.000000   777.000000   \n",
       "mean    3699.907336    855.298584  10440.669241  4357.526384   549.380952   \n",
       "std     4850.420531   1522.431887   4023.016484  1096.696416   165.105360   \n",
       "min      139.000000      1.000000   2340.000000  1780.000000    96.000000   \n",
       "25%      992.000000     95.000000   7320.000000  3597.000000   470.000000   \n",
       "50%     1707.000000    353.000000   9990.000000  4200.000000   500.000000   \n",
       "75%     4005.000000    967.000000  12925.000000  5050.000000   600.000000   \n",
       "max    31643.000000  21836.000000  21700.000000  8124.000000  2340.000000   \n",
       "\n",
       "          Personal         PhD    Terminal   S.F.Ratio  perc.alumni  \\\n",
       "count   777.000000  777.000000  777.000000  777.000000   777.000000   \n",
       "mean   1340.642214   72.660232   79.702703   14.089704    22.743887   \n",
       "std     677.071454   16.328155   14.722359    3.958349    12.391801   \n",
       "min     250.000000    8.000000   24.000000    2.500000     0.000000   \n",
       "25%     850.000000   62.000000   71.000000   11.500000    13.000000   \n",
       "50%    1200.000000   75.000000   82.000000   13.600000    21.000000   \n",
       "75%    1700.000000   85.000000   92.000000   16.500000    31.000000   \n",
       "max    6800.000000  103.000000  100.000000   39.800000    64.000000   \n",
       "\n",
       "             Expend  Grad.Rate  \n",
       "count    777.000000  777.00000  \n",
       "mean    9660.171171   65.46332  \n",
       "std     5221.768440   17.17771  \n",
       "min     3186.000000   10.00000  \n",
       "25%     6751.000000   53.00000  \n",
       "50%     8377.000000   65.00000  \n",
       "75%    10830.000000   78.00000  \n",
       "max    56233.000000  118.00000  "
      ]
     },
     "execution_count": 109,
     "metadata": {},
     "output_type": "execute_result"
    }
   ],
   "source": [
    "df_3.describe()"
   ]
  },
  {
   "cell_type": "code",
   "execution_count": 112,
   "metadata": {},
   "outputs": [
    {
     "data": {
      "text/plain": [
       "(777, 18)"
      ]
     },
     "execution_count": 112,
     "metadata": {},
     "output_type": "execute_result"
    }
   ],
   "source": [
    "df_3.shape"
   ]
  },
  {
   "cell_type": "code",
   "execution_count": 128,
   "metadata": {
    "scrolled": true
   },
   "outputs": [
    {
     "data": {
      "text/plain": [
       "<AxesSubplot:>"
      ]
     },
     "execution_count": 128,
     "metadata": {},
     "output_type": "execute_result"
    },
    {
     "data": {
      "image/png": "[encoded data removed]",
      "text/plain": [
       "<Figure size 1440x720 with 2 Axes>"
      ]
     },
     "metadata": {},
     "output_type": "display_data"
    }
   ],
   "source": [
    "plt.subplots(figsize= (20,10))\n",
    "sns.heatmap(df_3.corr())"
   ]
  },
  {
   "cell_type": "markdown",
   "metadata": {},
   "source": [
    "**2.1 Inferece:** \n",
    "\n",
    "- No columns have Null values\n",
    "- The average number of Applications is 3001.\n",
    "- The number of Applications ranges from 81 to 48094.\n",
    "- The average number of Acceptances is 2018.\n",
    "- The number of Acceptances ranges from 72 to 26330.\n",
    "- The average number of Faculties with PhD is 72.6.\n",
    "- Applications have the highest correlation with Accept, Enroll and F.Undergrad."
   ]
  },
  {
   "cell_type": "markdown",
   "metadata": {},
   "source": [
    "**2.2 Is scaling necessary for PCA in this case? Give justification and perform scaling.**"
   ]
  },
  {
   "cell_type": "markdown",
   "metadata": {},
   "source": [
    "Scaling **is necessary** in this case as the values vary a lot by scale in different columns. Certain values are in the thousands and certain values are two digit only. Scaling is useful to compare these values. As PCA calculate a new projection based on standard devation, values with high standard deviation will have a higher weight in the calculation.\n",
    "\n",
    "The primary objective of scaling is to normalize the data in the given range. Scaling also helps speed up the algorithm."
   ]
  },
  {
   "cell_type": "code",
   "execution_count": 155,
   "metadata": {},
   "outputs": [
    {
     "data": {
      "text/html": [
       "<div>\n",
       "<style scoped>\n",
       "    .dataframe tbody tr th:only-of-type {\n",
       "        vertical-align: middle;\n",
       "    }\n",
       "\n",
       "    .dataframe tbody tr th {\n",
       "        vertical-align: top;\n",
       "    }\n",
       "\n",
       "    .dataframe thead th {\n",
       "        text-align: right;\n",
       "    }\n",
       "</style>\n",
       "<table border=\"1\" class=\"dataframe\">\n",
       "  <thead>\n",
       "    <tr style=\"text-align: right;\">\n",
       "      <th></th>\n",
       "      <th>Apps</th>\n",
       "      <th>Accept</th>\n",
       "      <th>Enroll</th>\n",
       "      <th>Top10perc</th>\n",
       "      <th>Top25perc</th>\n",
       "      <th>F.Undergrad</th>\n",
       "      <th>P.Undergrad</th>\n",
       "      <th>Outstate</th>\n",
       "      <th>Room.Board</th>\n",
       "      <th>Books</th>\n",
       "      <th>Personal</th>\n",
       "      <th>PhD</th>\n",
       "      <th>Terminal</th>\n",
       "      <th>S.F.Ratio</th>\n",
       "      <th>perc.alumni</th>\n",
       "      <th>Expend</th>\n",
       "      <th>Grad.Rate</th>\n",
       "    </tr>\n",
       "  </thead>\n",
       "  <tbody>\n",
       "    <tr>\n",
       "      <th>0</th>\n",
       "      <td>-0.346659</td>\n",
       "      <td>-0.320999</td>\n",
       "      <td>-0.063468</td>\n",
       "      <td>-0.258416</td>\n",
       "      <td>-0.191704</td>\n",
       "      <td>-0.168008</td>\n",
       "      <td>-0.209072</td>\n",
       "      <td>-0.745875</td>\n",
       "      <td>-0.964284</td>\n",
       "      <td>-0.601924</td>\n",
       "      <td>1.269228</td>\n",
       "      <td>-0.162923</td>\n",
       "      <td>-0.115654</td>\n",
       "      <td>1.013123</td>\n",
       "      <td>-0.867016</td>\n",
       "      <td>-0.501587</td>\n",
       "      <td>-0.318047</td>\n",
       "    </tr>\n",
       "    <tr>\n",
       "      <th>1</th>\n",
       "      <td>-0.210748</td>\n",
       "      <td>-0.038678</td>\n",
       "      <td>-0.288398</td>\n",
       "      <td>-0.655234</td>\n",
       "      <td>-1.353040</td>\n",
       "      <td>-0.209653</td>\n",
       "      <td>0.244150</td>\n",
       "      <td>0.457202</td>\n",
       "      <td>1.907979</td>\n",
       "      <td>1.215097</td>\n",
       "      <td>0.235363</td>\n",
       "      <td>-2.673923</td>\n",
       "      <td>-3.376001</td>\n",
       "      <td>-0.477397</td>\n",
       "      <td>-0.544222</td>\n",
       "      <td>0.166003</td>\n",
       "      <td>-0.550907</td>\n",
       "    </tr>\n",
       "    <tr>\n",
       "      <th>2</th>\n",
       "      <td>-0.406604</td>\n",
       "      <td>-0.376076</td>\n",
       "      <td>-0.477814</td>\n",
       "      <td>-0.315105</td>\n",
       "      <td>-0.292690</td>\n",
       "      <td>-0.549212</td>\n",
       "      <td>-0.496770</td>\n",
       "      <td>0.201175</td>\n",
       "      <td>-0.553960</td>\n",
       "      <td>-0.904761</td>\n",
       "      <td>-0.259415</td>\n",
       "      <td>-1.204069</td>\n",
       "      <td>-0.930741</td>\n",
       "      <td>-0.300556</td>\n",
       "      <td>0.585558</td>\n",
       "      <td>-0.177176</td>\n",
       "      <td>-0.667337</td>\n",
       "    </tr>\n",
       "    <tr>\n",
       "      <th>3</th>\n",
       "      <td>-0.667830</td>\n",
       "      <td>-0.681243</td>\n",
       "      <td>-0.691982</td>\n",
       "      <td>1.839046</td>\n",
       "      <td>1.676532</td>\n",
       "      <td>-0.657656</td>\n",
       "      <td>-0.520416</td>\n",
       "      <td>0.626229</td>\n",
       "      <td>0.996150</td>\n",
       "      <td>-0.601924</td>\n",
       "      <td>-0.687730</td>\n",
       "      <td>1.184443</td>\n",
       "      <td>1.174900</td>\n",
       "      <td>-1.614235</td>\n",
       "      <td>1.150447</td>\n",
       "      <td>1.791697</td>\n",
       "      <td>-0.376262</td>\n",
       "    </tr>\n",
       "    <tr>\n",
       "      <th>4</th>\n",
       "      <td>-0.725709</td>\n",
       "      <td>-0.764063</td>\n",
       "      <td>-0.780232</td>\n",
       "      <td>-0.655234</td>\n",
       "      <td>-0.595647</td>\n",
       "      <td>-0.711466</td>\n",
       "      <td>0.009000</td>\n",
       "      <td>-0.716047</td>\n",
       "      <td>-0.216584</td>\n",
       "      <td>1.517934</td>\n",
       "      <td>0.235363</td>\n",
       "      <td>0.204540</td>\n",
       "      <td>-0.523198</td>\n",
       "      <td>-0.553186</td>\n",
       "      <td>-1.674001</td>\n",
       "      <td>0.241648</td>\n",
       "      <td>-2.937721</td>\n",
       "    </tr>\n",
       "    <tr>\n",
       "      <th>...</th>\n",
       "      <td>...</td>\n",
       "      <td>...</td>\n",
       "      <td>...</td>\n",
       "      <td>...</td>\n",
       "      <td>...</td>\n",
       "      <td>...</td>\n",
       "      <td>...</td>\n",
       "      <td>...</td>\n",
       "      <td>...</td>\n",
       "      <td>...</td>\n",
       "      <td>...</td>\n",
       "      <td>...</td>\n",
       "      <td>...</td>\n",
       "      <td>...</td>\n",
       "      <td>...</td>\n",
       "      <td>...</td>\n",
       "      <td>...</td>\n",
       "    </tr>\n",
       "    <tr>\n",
       "      <th>772</th>\n",
       "      <td>-0.207906</td>\n",
       "      <td>-0.205541</td>\n",
       "      <td>-0.255036</td>\n",
       "      <td>-1.335492</td>\n",
       "      <td>-1.504518</td>\n",
       "      <td>-0.125949</td>\n",
       "      <td>0.770939</td>\n",
       "      <td>-0.905706</td>\n",
       "      <td>-0.417186</td>\n",
       "      <td>-0.299088</td>\n",
       "      <td>-0.207721</td>\n",
       "      <td>-0.775362</td>\n",
       "      <td>-1.338284</td>\n",
       "      <td>1.745752</td>\n",
       "      <td>-0.705619</td>\n",
       "      <td>-0.994140</td>\n",
       "      <td>-1.482347</td>\n",
       "    </tr>\n",
       "    <tr>\n",
       "      <th>773</th>\n",
       "      <td>-0.269402</td>\n",
       "      <td>-0.087227</td>\n",
       "      <td>-0.091450</td>\n",
       "      <td>-0.201728</td>\n",
       "      <td>-0.444168</td>\n",
       "      <td>-0.175430</td>\n",
       "      <td>0.165329</td>\n",
       "      <td>0.268289</td>\n",
       "      <td>0.549353</td>\n",
       "      <td>0.306586</td>\n",
       "      <td>-0.133874</td>\n",
       "      <td>0.020809</td>\n",
       "      <td>-0.319426</td>\n",
       "      <td>-0.199503</td>\n",
       "      <td>0.666256</td>\n",
       "      <td>-0.090232</td>\n",
       "      <td>1.020897</td>\n",
       "    </tr>\n",
       "    <tr>\n",
       "      <th>774</th>\n",
       "      <td>-0.233745</td>\n",
       "      <td>-0.042350</td>\n",
       "      <td>-0.091450</td>\n",
       "      <td>0.365154</td>\n",
       "      <td>0.262732</td>\n",
       "      <td>-0.186975</td>\n",
       "      <td>-0.452762</td>\n",
       "      <td>-0.880103</td>\n",
       "      <td>-0.143637</td>\n",
       "      <td>0.409551</td>\n",
       "      <td>-0.826563</td>\n",
       "      <td>-0.346655</td>\n",
       "      <td>-0.319426</td>\n",
       "      <td>0.078390</td>\n",
       "      <td>-0.221428</td>\n",
       "      <td>-0.256076</td>\n",
       "      <td>-0.958412</td>\n",
       "    </tr>\n",
       "    <tr>\n",
       "      <th>775</th>\n",
       "      <td>1.990429</td>\n",
       "      <td>0.177142</td>\n",
       "      <td>0.577960</td>\n",
       "      <td>3.823132</td>\n",
       "      <td>2.181461</td>\n",
       "      <td>0.312775</td>\n",
       "      <td>-0.507280</td>\n",
       "      <td>2.336389</td>\n",
       "      <td>1.962689</td>\n",
       "      <td>0.488288</td>\n",
       "      <td>1.143687</td>\n",
       "      <td>1.429419</td>\n",
       "      <td>1.106976</td>\n",
       "      <td>-2.094233</td>\n",
       "      <td>2.118829</td>\n",
       "      <td>5.884181</td>\n",
       "      <td>1.952337</td>\n",
       "    </tr>\n",
       "    <tr>\n",
       "      <th>776</th>\n",
       "      <td>-0.003266</td>\n",
       "      <td>-0.066829</td>\n",
       "      <td>-0.095755</td>\n",
       "      <td>0.025025</td>\n",
       "      <td>0.363718</td>\n",
       "      <td>-0.146772</td>\n",
       "      <td>0.571915</td>\n",
       "      <td>-1.354871</td>\n",
       "      <td>-0.727208</td>\n",
       "      <td>-0.299088</td>\n",
       "      <td>-0.133874</td>\n",
       "      <td>0.143297</td>\n",
       "      <td>-0.319426</td>\n",
       "      <td>1.013123</td>\n",
       "      <td>0.424161</td>\n",
       "      <td>-0.986480</td>\n",
       "      <td>1.952337</td>\n",
       "    </tr>\n",
       "  </tbody>\n",
       "</table>\n",
       "<p>777 rows × 17 columns</p>\n",
       "</div>"
      ],
      "text/plain": [
       "         Apps    Accept    Enroll  Top10perc  Top25perc  F.Undergrad  \\\n",
       "0   -0.346659 -0.320999 -0.063468  -0.258416  -0.191704    -0.168008   \n",
       "1   -0.210748 -0.038678 -0.288398  -0.655234  -1.353040    -0.209653   \n",
       "2   -0.406604 -0.376076 -0.477814  -0.315105  -0.292690    -0.549212   \n",
       "3   -0.667830 -0.681243 -0.691982   1.839046   1.676532    -0.657656   \n",
       "4   -0.725709 -0.764063 -0.780232  -0.655234  -0.595647    -0.711466   \n",
       "..        ...       ...       ...        ...        ...          ...   \n",
       "772 -0.207906 -0.205541 -0.255036  -1.335492  -1.504518    -0.125949   \n",
       "773 -0.269402 -0.087227 -0.091450  -0.201728  -0.444168    -0.175430   \n",
       "774 -0.233745 -0.042350 -0.091450   0.365154   0.262732    -0.186975   \n",
       "775  1.990429  0.177142  0.577960   3.823132   2.181461     0.312775   \n",
       "776 -0.003266 -0.066829 -0.095755   0.025025   0.363718    -0.146772   \n",
       "\n",
       "     P.Undergrad  Outstate  Room.Board     Books  Personal       PhD  \\\n",
       "0      -0.209072 -0.745875   -0.964284 -0.601924  1.269228 -0.162923   \n",
       "1       0.244150  0.457202    1.907979  1.215097  0.235363 -2.673923   \n",
       "2      -0.496770  0.201175   -0.553960 -0.904761 -0.259415 -1.204069   \n",
       "3      -0.520416  0.626229    0.996150 -0.601924 -0.687730  1.184443   \n",
       "4       0.009000 -0.716047   -0.216584  1.517934  0.235363  0.204540   \n",
       "..           ...       ...         ...       ...       ...       ...   \n",
       "772     0.770939 -0.905706   -0.417186 -0.299088 -0.207721 -0.775362   \n",
       "773     0.165329  0.268289    0.549353  0.306586 -0.133874  0.020809   \n",
       "774    -0.452762 -0.880103   -0.143637  0.409551 -0.826563 -0.346655   \n",
       "775    -0.507280  2.336389    1.962689  0.488288  1.143687  1.429419   \n",
       "776     0.571915 -1.354871   -0.727208 -0.299088 -0.133874  0.143297   \n",
       "\n",
       "     Terminal  S.F.Ratio  perc.alumni    Expend  Grad.Rate  \n",
       "0   -0.115654   1.013123    -0.867016 -0.501587  -0.318047  \n",
       "1   -3.376001  -0.477397    -0.544222  0.166003  -0.550907  \n",
       "2   -0.930741  -0.300556     0.585558 -0.177176  -0.667337  \n",
       "3    1.174900  -1.614235     1.150447  1.791697  -0.376262  \n",
       "4   -0.523198  -0.553186    -1.674001  0.241648  -2.937721  \n",
       "..        ...        ...          ...       ...        ...  \n",
       "772 -1.338284   1.745752    -0.705619 -0.994140  -1.482347  \n",
       "773 -0.319426  -0.199503     0.666256 -0.090232   1.020897  \n",
       "774 -0.319426   0.078390    -0.221428 -0.256076  -0.958412  \n",
       "775  1.106976  -2.094233     2.118829  5.884181   1.952337  \n",
       "776 -0.319426   1.013123     0.424161 -0.986480   1.952337  \n",
       "\n",
       "[777 rows x 17 columns]"
      ]
     },
     "execution_count": 155,
     "metadata": {},
     "output_type": "execute_result"
    }
   ],
   "source": [
    "# Z Score Scaling\n",
    "def z_score(df):\n",
    "    # copy the dataframe\n",
    "    df_std = df.copy()\n",
    "    # apply the z-score method\n",
    "    for column in df_std.columns:\n",
    "        df_std[column] = (df_std[column] - df_std[column].mean()) / df_std[column].std()\n",
    "        \n",
    "    return df_std\n",
    "\n",
    "df_3_std = z_score(df_3.drop(\"Names\", axis=1))\n",
    "df_3_std"
   ]
  },
  {
   "cell_type": "markdown",
   "metadata": {},
   "source": [
    "**2.3 Comment on the comparison between the covariance and the correlation matrices from this data [on scaled data].**\n",
    "\n",
    "Correlation: measures both the strength and direction of the linear relationship between two variables.\n",
    "\n",
    "Covariance: is used to measure how to variables change with respect to each other, indicates direction of relation."
   ]
  },
  {
   "cell_type": "code",
   "execution_count": 175,
   "metadata": {
    "scrolled": false
   },
   "outputs": [
    {
     "data": {
      "text/plain": [
       "array([[ 1.        ,  0.94345057,  0.84682205,  0.33883368,  0.3516399 ,\n",
       "         0.81449058,  0.39826427,  0.05015903,  0.16493896,  0.1325586 ,\n",
       "         0.17873085,  0.39069733,  0.36949147,  0.09563303, -0.09022589,\n",
       "         0.25959198,  0.1467546 ],\n",
       "       [ 0.94345057,  1.        ,  0.91163666,  0.19244693,  0.24747574,\n",
       "         0.87422328,  0.44127073, -0.02575455,  0.09089863,  0.11352535,\n",
       "         0.20098867,  0.35575788,  0.33758337,  0.17622901, -0.15998987,\n",
       "         0.12471701,  0.06731255],\n",
       "       [ 0.84682205,  0.91163666,  1.        ,  0.18129353,  0.22674511,\n",
       "         0.96463965,  0.5130686 , -0.15547734, -0.04023168,  0.11271089,\n",
       "         0.28092946,  0.33146914,  0.30827407,  0.23727131, -0.18079413,\n",
       "         0.06416923, -0.02234104],\n",
       "       [ 0.33883368,  0.19244693,  0.18129353,  1.        ,  0.89199497,\n",
       "         0.14128873, -0.10535628,  0.56233054,  0.37148038,  0.11885843,\n",
       "        -0.0933164 ,  0.53182802,  0.49113502, -0.38487451,  0.45548526,\n",
       "         0.66091341,  0.49498923],\n",
       "       [ 0.3516399 ,  0.24747574,  0.22674511,  0.89199497,  1.        ,\n",
       "         0.19944466, -0.05357664,  0.48939383,  0.33148989,  0.11552713,\n",
       "        -0.08081027,  0.54586221,  0.52474884, -0.29462884,  0.41786429,\n",
       "         0.52744743,  0.47728116],\n",
       "       [ 0.81449058,  0.87422328,  0.96463965,  0.14128873,  0.19944466,\n",
       "         1.        ,  0.57051219, -0.215742  , -0.06889039,  0.11554976,\n",
       "         0.31719954,  0.31833697,  0.30001894,  0.27970335, -0.22946222,\n",
       "         0.01865162, -0.07877313],\n",
       "       [ 0.39826427,  0.44127073,  0.5130686 , -0.10535628, -0.05357664,\n",
       "         0.57051219,  1.        , -0.25351232, -0.06132551,  0.08119952,\n",
       "         0.31988162,  0.14911422,  0.14190357,  0.23253051, -0.28079236,\n",
       "        -0.08356842, -0.25700099],\n",
       "       [ 0.05015903, -0.02575455, -0.15547734,  0.56233054,  0.48939383,\n",
       "        -0.215742  , -0.25351232,  1.        ,  0.6542564 ,  0.03885487,\n",
       "        -0.2990869 ,  0.38298241,  0.4079832 , -0.55482128,  0.56626242,\n",
       "         0.67277862,  0.57128993],\n",
       "       [ 0.16493896,  0.09089863, -0.04023168,  0.37148038,  0.33148989,\n",
       "        -0.06889039, -0.06132551,  0.6542564 ,  1.        ,  0.12796297,\n",
       "        -0.19942818,  0.32920228,  0.37453955, -0.36262774,  0.27236345,\n",
       "         0.50173942,  0.42494154],\n",
       "       [ 0.1325586 ,  0.11352535,  0.11271089,  0.11885843,  0.11552713,\n",
       "         0.11554976,  0.08119952,  0.03885487,  0.12796297,  1.        ,\n",
       "         0.17929476,  0.02690573,  0.0999547 , -0.03192927, -0.04020774,\n",
       "         0.11240908,  0.00106089],\n",
       "       [ 0.17873085,  0.20098867,  0.28092946, -0.0933164 , -0.08081027,\n",
       "         0.31719954,  0.31988162, -0.2990869 , -0.19942818,  0.17929476,\n",
       "         1.        , -0.01093579, -0.03061311,  0.13634483, -0.28596808,\n",
       "        -0.09789189, -0.26934396],\n",
       "       [ 0.39069733,  0.35575788,  0.33146914,  0.53182802,  0.54586221,\n",
       "         0.31833697,  0.14911422,  0.38298241,  0.32920228,  0.02690573,\n",
       "        -0.01093579,  1.        ,  0.84958703, -0.13053011,  0.24900866,\n",
       "         0.43276168,  0.30503785],\n",
       "       [ 0.36949147,  0.33758337,  0.30827407,  0.49113502,  0.52474884,\n",
       "         0.30001894,  0.14190357,  0.4079832 ,  0.37453955,  0.0999547 ,\n",
       "        -0.03061311,  0.84958703,  1.        , -0.16010395,  0.26713029,\n",
       "         0.43879922,  0.28952723],\n",
       "       [ 0.09563303,  0.17622901,  0.23727131, -0.38487451, -0.29462884,\n",
       "         0.27970335,  0.23253051, -0.55482128, -0.36262774, -0.03192927,\n",
       "         0.13634483, -0.13053011, -0.16010395,  1.        , -0.40292917,\n",
       "        -0.58383204, -0.30671041],\n",
       "       [-0.09022589, -0.15998987, -0.18079413,  0.45548526,  0.41786429,\n",
       "        -0.22946222, -0.28079236,  0.56626242,  0.27236345, -0.04020774,\n",
       "        -0.28596808,  0.24900866,  0.26713029, -0.40292917,  1.        ,\n",
       "         0.41771172,  0.49089756],\n",
       "       [ 0.25959198,  0.12471701,  0.06416923,  0.66091341,  0.52744743,\n",
       "         0.01865162, -0.08356842,  0.67277862,  0.50173942,  0.11240908,\n",
       "        -0.09789189,  0.43276168,  0.43879922, -0.58383204,  0.41771172,\n",
       "         1.        ,  0.3903427 ],\n",
       "       [ 0.1467546 ,  0.06731255, -0.02234104,  0.49498923,  0.47728116,\n",
       "        -0.07877313, -0.25700099,  0.57128993,  0.42494154,  0.00106089,\n",
       "        -0.26934396,  0.30503785,  0.28952723, -0.30671041,  0.49089756,\n",
       "         0.3903427 ,  1.        ]])"
      ]
     },
     "execution_count": 175,
     "metadata": {},
     "output_type": "execute_result"
    }
   ],
   "source": [
    "# Covariance Matrix:\n",
    "cov_mat = np.cov(df_3_std.T)\n",
    "cov_mat"
   ]
  },
  {
   "cell_type": "code",
   "execution_count": 165,
   "metadata": {
    "scrolled": true
   },
   "outputs": [
    {
     "data": {
      "text/html": [
       "<div>\n",
       "<style scoped>\n",
       "    .dataframe tbody tr th:only-of-type {\n",
       "        vertical-align: middle;\n",
       "    }\n",
       "\n",
       "    .dataframe tbody tr th {\n",
       "        vertical-align: top;\n",
       "    }\n",
       "\n",
       "    .dataframe thead th {\n",
       "        text-align: right;\n",
       "    }\n",
       "</style>\n",
       "<table border=\"1\" class=\"dataframe\">\n",
       "  <thead>\n",
       "    <tr style=\"text-align: right;\">\n",
       "      <th></th>\n",
       "      <th>Apps</th>\n",
       "      <th>Accept</th>\n",
       "      <th>Enroll</th>\n",
       "      <th>Top10perc</th>\n",
       "      <th>Top25perc</th>\n",
       "      <th>F.Undergrad</th>\n",
       "      <th>P.Undergrad</th>\n",
       "      <th>Outstate</th>\n",
       "      <th>Room.Board</th>\n",
       "      <th>Books</th>\n",
       "      <th>Personal</th>\n",
       "      <th>PhD</th>\n",
       "      <th>Terminal</th>\n",
       "      <th>S.F.Ratio</th>\n",
       "      <th>perc.alumni</th>\n",
       "      <th>Expend</th>\n",
       "      <th>Grad.Rate</th>\n",
       "    </tr>\n",
       "  </thead>\n",
       "  <tbody>\n",
       "    <tr>\n",
       "      <th>Apps</th>\n",
       "      <td>1.000000</td>\n",
       "      <td>0.943451</td>\n",
       "      <td>0.846822</td>\n",
       "      <td>0.338834</td>\n",
       "      <td>0.351640</td>\n",
       "      <td>0.814491</td>\n",
       "      <td>0.398264</td>\n",
       "      <td>0.050159</td>\n",
       "      <td>0.164939</td>\n",
       "      <td>0.132559</td>\n",
       "      <td>0.178731</td>\n",
       "      <td>0.390697</td>\n",
       "      <td>0.369491</td>\n",
       "      <td>0.095633</td>\n",
       "      <td>-0.090226</td>\n",
       "      <td>0.259592</td>\n",
       "      <td>0.146755</td>\n",
       "    </tr>\n",
       "    <tr>\n",
       "      <th>Accept</th>\n",
       "      <td>0.943451</td>\n",
       "      <td>1.000000</td>\n",
       "      <td>0.911637</td>\n",
       "      <td>0.192447</td>\n",
       "      <td>0.247476</td>\n",
       "      <td>0.874223</td>\n",
       "      <td>0.441271</td>\n",
       "      <td>-0.025755</td>\n",
       "      <td>0.090899</td>\n",
       "      <td>0.113525</td>\n",
       "      <td>0.200989</td>\n",
       "      <td>0.355758</td>\n",
       "      <td>0.337583</td>\n",
       "      <td>0.176229</td>\n",
       "      <td>-0.159990</td>\n",
       "      <td>0.124717</td>\n",
       "      <td>0.067313</td>\n",
       "    </tr>\n",
       "    <tr>\n",
       "      <th>Enroll</th>\n",
       "      <td>0.846822</td>\n",
       "      <td>0.911637</td>\n",
       "      <td>1.000000</td>\n",
       "      <td>0.181294</td>\n",
       "      <td>0.226745</td>\n",
       "      <td>0.964640</td>\n",
       "      <td>0.513069</td>\n",
       "      <td>-0.155477</td>\n",
       "      <td>-0.040232</td>\n",
       "      <td>0.112711</td>\n",
       "      <td>0.280929</td>\n",
       "      <td>0.331469</td>\n",
       "      <td>0.308274</td>\n",
       "      <td>0.237271</td>\n",
       "      <td>-0.180794</td>\n",
       "      <td>0.064169</td>\n",
       "      <td>-0.022341</td>\n",
       "    </tr>\n",
       "    <tr>\n",
       "      <th>Top10perc</th>\n",
       "      <td>0.338834</td>\n",
       "      <td>0.192447</td>\n",
       "      <td>0.181294</td>\n",
       "      <td>1.000000</td>\n",
       "      <td>0.891995</td>\n",
       "      <td>0.141289</td>\n",
       "      <td>-0.105356</td>\n",
       "      <td>0.562331</td>\n",
       "      <td>0.371480</td>\n",
       "      <td>0.118858</td>\n",
       "      <td>-0.093316</td>\n",
       "      <td>0.531828</td>\n",
       "      <td>0.491135</td>\n",
       "      <td>-0.384875</td>\n",
       "      <td>0.455485</td>\n",
       "      <td>0.660913</td>\n",
       "      <td>0.494989</td>\n",
       "    </tr>\n",
       "    <tr>\n",
       "      <th>Top25perc</th>\n",
       "      <td>0.351640</td>\n",
       "      <td>0.247476</td>\n",
       "      <td>0.226745</td>\n",
       "      <td>0.891995</td>\n",
       "      <td>1.000000</td>\n",
       "      <td>0.199445</td>\n",
       "      <td>-0.053577</td>\n",
       "      <td>0.489394</td>\n",
       "      <td>0.331490</td>\n",
       "      <td>0.115527</td>\n",
       "      <td>-0.080810</td>\n",
       "      <td>0.545862</td>\n",
       "      <td>0.524749</td>\n",
       "      <td>-0.294629</td>\n",
       "      <td>0.417864</td>\n",
       "      <td>0.527447</td>\n",
       "      <td>0.477281</td>\n",
       "    </tr>\n",
       "    <tr>\n",
       "      <th>F.Undergrad</th>\n",
       "      <td>0.814491</td>\n",
       "      <td>0.874223</td>\n",
       "      <td>0.964640</td>\n",
       "      <td>0.141289</td>\n",
       "      <td>0.199445</td>\n",
       "      <td>1.000000</td>\n",
       "      <td>0.570512</td>\n",
       "      <td>-0.215742</td>\n",
       "      <td>-0.068890</td>\n",
       "      <td>0.115550</td>\n",
       "      <td>0.317200</td>\n",
       "      <td>0.318337</td>\n",
       "      <td>0.300019</td>\n",
       "      <td>0.279703</td>\n",
       "      <td>-0.229462</td>\n",
       "      <td>0.018652</td>\n",
       "      <td>-0.078773</td>\n",
       "    </tr>\n",
       "    <tr>\n",
       "      <th>P.Undergrad</th>\n",
       "      <td>0.398264</td>\n",
       "      <td>0.441271</td>\n",
       "      <td>0.513069</td>\n",
       "      <td>-0.105356</td>\n",
       "      <td>-0.053577</td>\n",
       "      <td>0.570512</td>\n",
       "      <td>1.000000</td>\n",
       "      <td>-0.253512</td>\n",
       "      <td>-0.061326</td>\n",
       "      <td>0.081200</td>\n",
       "      <td>0.319882</td>\n",
       "      <td>0.149114</td>\n",
       "      <td>0.141904</td>\n",
       "      <td>0.232531</td>\n",
       "      <td>-0.280792</td>\n",
       "      <td>-0.083568</td>\n",
       "      <td>-0.257001</td>\n",
       "    </tr>\n",
       "    <tr>\n",
       "      <th>Outstate</th>\n",
       "      <td>0.050159</td>\n",
       "      <td>-0.025755</td>\n",
       "      <td>-0.155477</td>\n",
       "      <td>0.562331</td>\n",
       "      <td>0.489394</td>\n",
       "      <td>-0.215742</td>\n",
       "      <td>-0.253512</td>\n",
       "      <td>1.000000</td>\n",
       "      <td>0.654256</td>\n",
       "      <td>0.038855</td>\n",
       "      <td>-0.299087</td>\n",
       "      <td>0.382982</td>\n",
       "      <td>0.407983</td>\n",
       "      <td>-0.554821</td>\n",
       "      <td>0.566262</td>\n",
       "      <td>0.672779</td>\n",
       "      <td>0.571290</td>\n",
       "    </tr>\n",
       "    <tr>\n",
       "      <th>Room.Board</th>\n",
       "      <td>0.164939</td>\n",
       "      <td>0.090899</td>\n",
       "      <td>-0.040232</td>\n",
       "      <td>0.371480</td>\n",
       "      <td>0.331490</td>\n",
       "      <td>-0.068890</td>\n",
       "      <td>-0.061326</td>\n",
       "      <td>0.654256</td>\n",
       "      <td>1.000000</td>\n",
       "      <td>0.127963</td>\n",
       "      <td>-0.199428</td>\n",
       "      <td>0.329202</td>\n",
       "      <td>0.374540</td>\n",
       "      <td>-0.362628</td>\n",
       "      <td>0.272363</td>\n",
       "      <td>0.501739</td>\n",
       "      <td>0.424942</td>\n",
       "    </tr>\n",
       "    <tr>\n",
       "      <th>Books</th>\n",
       "      <td>0.132559</td>\n",
       "      <td>0.113525</td>\n",
       "      <td>0.112711</td>\n",
       "      <td>0.118858</td>\n",
       "      <td>0.115527</td>\n",
       "      <td>0.115550</td>\n",
       "      <td>0.081200</td>\n",
       "      <td>0.038855</td>\n",
       "      <td>0.127963</td>\n",
       "      <td>1.000000</td>\n",
       "      <td>0.179295</td>\n",
       "      <td>0.026906</td>\n",
       "      <td>0.099955</td>\n",
       "      <td>-0.031929</td>\n",
       "      <td>-0.040208</td>\n",
       "      <td>0.112409</td>\n",
       "      <td>0.001061</td>\n",
       "    </tr>\n",
       "    <tr>\n",
       "      <th>Personal</th>\n",
       "      <td>0.178731</td>\n",
       "      <td>0.200989</td>\n",
       "      <td>0.280929</td>\n",
       "      <td>-0.093316</td>\n",
       "      <td>-0.080810</td>\n",
       "      <td>0.317200</td>\n",
       "      <td>0.319882</td>\n",
       "      <td>-0.299087</td>\n",
       "      <td>-0.199428</td>\n",
       "      <td>0.179295</td>\n",
       "      <td>1.000000</td>\n",
       "      <td>-0.010936</td>\n",
       "      <td>-0.030613</td>\n",
       "      <td>0.136345</td>\n",
       "      <td>-0.285968</td>\n",
       "      <td>-0.097892</td>\n",
       "      <td>-0.269344</td>\n",
       "    </tr>\n",
       "    <tr>\n",
       "      <th>PhD</th>\n",
       "      <td>0.390697</td>\n",
       "      <td>0.355758</td>\n",
       "      <td>0.331469</td>\n",
       "      <td>0.531828</td>\n",
       "      <td>0.545862</td>\n",
       "      <td>0.318337</td>\n",
       "      <td>0.149114</td>\n",
       "      <td>0.382982</td>\n",
       "      <td>0.329202</td>\n",
       "      <td>0.026906</td>\n",
       "      <td>-0.010936</td>\n",
       "      <td>1.000000</td>\n",
       "      <td>0.849587</td>\n",
       "      <td>-0.130530</td>\n",
       "      <td>0.249009</td>\n",
       "      <td>0.432762</td>\n",
       "      <td>0.305038</td>\n",
       "    </tr>\n",
       "    <tr>\n",
       "      <th>Terminal</th>\n",
       "      <td>0.369491</td>\n",
       "      <td>0.337583</td>\n",
       "      <td>0.308274</td>\n",
       "      <td>0.491135</td>\n",
       "      <td>0.524749</td>\n",
       "      <td>0.300019</td>\n",
       "      <td>0.141904</td>\n",
       "      <td>0.407983</td>\n",
       "      <td>0.374540</td>\n",
       "      <td>0.099955</td>\n",
       "      <td>-0.030613</td>\n",
       "      <td>0.849587</td>\n",
       "      <td>1.000000</td>\n",
       "      <td>-0.160104</td>\n",
       "      <td>0.267130</td>\n",
       "      <td>0.438799</td>\n",
       "      <td>0.289527</td>\n",
       "    </tr>\n",
       "    <tr>\n",
       "      <th>S.F.Ratio</th>\n",
       "      <td>0.095633</td>\n",
       "      <td>0.176229</td>\n",
       "      <td>0.237271</td>\n",
       "      <td>-0.384875</td>\n",
       "      <td>-0.294629</td>\n",
       "      <td>0.279703</td>\n",
       "      <td>0.232531</td>\n",
       "      <td>-0.554821</td>\n",
       "      <td>-0.362628</td>\n",
       "      <td>-0.031929</td>\n",
       "      <td>0.136345</td>\n",
       "      <td>-0.130530</td>\n",
       "      <td>-0.160104</td>\n",
       "      <td>1.000000</td>\n",
       "      <td>-0.402929</td>\n",
       "      <td>-0.583832</td>\n",
       "      <td>-0.306710</td>\n",
       "    </tr>\n",
       "    <tr>\n",
       "      <th>perc.alumni</th>\n",
       "      <td>-0.090226</td>\n",
       "      <td>-0.159990</td>\n",
       "      <td>-0.180794</td>\n",
       "      <td>0.455485</td>\n",
       "      <td>0.417864</td>\n",
       "      <td>-0.229462</td>\n",
       "      <td>-0.280792</td>\n",
       "      <td>0.566262</td>\n",
       "      <td>0.272363</td>\n",
       "      <td>-0.040208</td>\n",
       "      <td>-0.285968</td>\n",
       "      <td>0.249009</td>\n",
       "      <td>0.267130</td>\n",
       "      <td>-0.402929</td>\n",
       "      <td>1.000000</td>\n",
       "      <td>0.417712</td>\n",
       "      <td>0.490898</td>\n",
       "    </tr>\n",
       "    <tr>\n",
       "      <th>Expend</th>\n",
       "      <td>0.259592</td>\n",
       "      <td>0.124717</td>\n",
       "      <td>0.064169</td>\n",
       "      <td>0.660913</td>\n",
       "      <td>0.527447</td>\n",
       "      <td>0.018652</td>\n",
       "      <td>-0.083568</td>\n",
       "      <td>0.672779</td>\n",
       "      <td>0.501739</td>\n",
       "      <td>0.112409</td>\n",
       "      <td>-0.097892</td>\n",
       "      <td>0.432762</td>\n",
       "      <td>0.438799</td>\n",
       "      <td>-0.583832</td>\n",
       "      <td>0.417712</td>\n",
       "      <td>1.000000</td>\n",
       "      <td>0.390343</td>\n",
       "    </tr>\n",
       "    <tr>\n",
       "      <th>Grad.Rate</th>\n",
       "      <td>0.146755</td>\n",
       "      <td>0.067313</td>\n",
       "      <td>-0.022341</td>\n",
       "      <td>0.494989</td>\n",
       "      <td>0.477281</td>\n",
       "      <td>-0.078773</td>\n",
       "      <td>-0.257001</td>\n",
       "      <td>0.571290</td>\n",
       "      <td>0.424942</td>\n",
       "      <td>0.001061</td>\n",
       "      <td>-0.269344</td>\n",
       "      <td>0.305038</td>\n",
       "      <td>0.289527</td>\n",
       "      <td>-0.306710</td>\n",
       "      <td>0.490898</td>\n",
       "      <td>0.390343</td>\n",
       "      <td>1.000000</td>\n",
       "    </tr>\n",
       "  </tbody>\n",
       "</table>\n",
       "</div>"
      ],
      "text/plain": [
       "                 Apps    Accept    Enroll  Top10perc  Top25perc  F.Undergrad  \\\n",
       "Apps         1.000000  0.943451  0.846822   0.338834   0.351640     0.814491   \n",
       "Accept       0.943451  1.000000  0.911637   0.192447   0.247476     0.874223   \n",
       "Enroll       0.846822  0.911637  1.000000   0.181294   0.226745     0.964640   \n",
       "Top10perc    0.338834  0.192447  0.181294   1.000000   0.891995     0.141289   \n",
       "Top25perc    0.351640  0.247476  0.226745   0.891995   1.000000     0.199445   \n",
       "F.Undergrad  0.814491  0.874223  0.964640   0.141289   0.199445     1.000000   \n",
       "P.Undergrad  0.398264  0.441271  0.513069  -0.105356  -0.053577     0.570512   \n",
       "Outstate     0.050159 -0.025755 -0.155477   0.562331   0.489394    -0.215742   \n",
       "Room.Board   0.164939  0.090899 -0.040232   0.371480   0.331490    -0.068890   \n",
       "Books        0.132559  0.113525  0.112711   0.118858   0.115527     0.115550   \n",
       "Personal     0.178731  0.200989  0.280929  -0.093316  -0.080810     0.317200   \n",
       "PhD          0.390697  0.355758  0.331469   0.531828   0.545862     0.318337   \n",
       "Terminal     0.369491  0.337583  0.308274   0.491135   0.524749     0.300019   \n",
       "S.F.Ratio    0.095633  0.176229  0.237271  -0.384875  -0.294629     0.279703   \n",
       "perc.alumni -0.090226 -0.159990 -0.180794   0.455485   0.417864    -0.229462   \n",
       "Expend       0.259592  0.124717  0.064169   0.660913   0.527447     0.018652   \n",
       "Grad.Rate    0.146755  0.067313 -0.022341   0.494989   0.477281    -0.078773   \n",
       "\n",
       "             P.Undergrad  Outstate  Room.Board     Books  Personal       PhD  \\\n",
       "Apps            0.398264  0.050159    0.164939  0.132559  0.178731  0.390697   \n",
       "Accept          0.441271 -0.025755    0.090899  0.113525  0.200989  0.355758   \n",
       "Enroll          0.513069 -0.155477   -0.040232  0.112711  0.280929  0.331469   \n",
       "Top10perc      -0.105356  0.562331    0.371480  0.118858 -0.093316  0.531828   \n",
       "Top25perc      -0.053577  0.489394    0.331490  0.115527 -0.080810  0.545862   \n",
       "F.Undergrad     0.570512 -0.215742   -0.068890  0.115550  0.317200  0.318337   \n",
       "P.Undergrad     1.000000 -0.253512   -0.061326  0.081200  0.319882  0.149114   \n",
       "Outstate       -0.253512  1.000000    0.654256  0.038855 -0.299087  0.382982   \n",
       "Room.Board     -0.061326  0.654256    1.000000  0.127963 -0.199428  0.329202   \n",
       "Books           0.081200  0.038855    0.127963  1.000000  0.179295  0.026906   \n",
       "Personal        0.319882 -0.299087   -0.199428  0.179295  1.000000 -0.010936   \n",
       "PhD             0.149114  0.382982    0.329202  0.026906 -0.010936  1.000000   \n",
       "Terminal        0.141904  0.407983    0.374540  0.099955 -0.030613  0.849587   \n",
       "S.F.Ratio       0.232531 -0.554821   -0.362628 -0.031929  0.136345 -0.130530   \n",
       "perc.alumni    -0.280792  0.566262    0.272363 -0.040208 -0.285968  0.249009   \n",
       "Expend         -0.083568  0.672779    0.501739  0.112409 -0.097892  0.432762   \n",
       "Grad.Rate      -0.257001  0.571290    0.424942  0.001061 -0.269344  0.305038   \n",
       "\n",
       "             Terminal  S.F.Ratio  perc.alumni    Expend  Grad.Rate  \n",
       "Apps         0.369491   0.095633    -0.090226  0.259592   0.146755  \n",
       "Accept       0.337583   0.176229    -0.159990  0.124717   0.067313  \n",
       "Enroll       0.308274   0.237271    -0.180794  0.064169  -0.022341  \n",
       "Top10perc    0.491135  -0.384875     0.455485  0.660913   0.494989  \n",
       "Top25perc    0.524749  -0.294629     0.417864  0.527447   0.477281  \n",
       "F.Undergrad  0.300019   0.279703    -0.229462  0.018652  -0.078773  \n",
       "P.Undergrad  0.141904   0.232531    -0.280792 -0.083568  -0.257001  \n",
       "Outstate     0.407983  -0.554821     0.566262  0.672779   0.571290  \n",
       "Room.Board   0.374540  -0.362628     0.272363  0.501739   0.424942  \n",
       "Books        0.099955  -0.031929    -0.040208  0.112409   0.001061  \n",
       "Personal    -0.030613   0.136345    -0.285968 -0.097892  -0.269344  \n",
       "PhD          0.849587  -0.130530     0.249009  0.432762   0.305038  \n",
       "Terminal     1.000000  -0.160104     0.267130  0.438799   0.289527  \n",
       "S.F.Ratio   -0.160104   1.000000    -0.402929 -0.583832  -0.306710  \n",
       "perc.alumni  0.267130  -0.402929     1.000000  0.417712   0.490898  \n",
       "Expend       0.438799  -0.583832     0.417712  1.000000   0.390343  \n",
       "Grad.Rate    0.289527  -0.306710     0.490898  0.390343   1.000000  "
      ]
     },
     "execution_count": 165,
     "metadata": {},
     "output_type": "execute_result"
    }
   ],
   "source": [
    "# Correlation Matrix\n",
    "\n",
    "df_3_std.corr()"
   ]
  },
  {
   "cell_type": "markdown",
   "metadata": {},
   "source": [
    "**2.4 Check the dataset for outliers before and after scaling. What insight do you derive here? [Please do not treat Outliers unless specifically asked to do so]**"
   ]
  },
  {
   "cell_type": "code",
   "execution_count": 166,
   "metadata": {
    "scrolled": false
   },
   "outputs": [
    {
     "data": {
      "text/plain": [
       "<AxesSubplot:>"
      ]
     },
     "execution_count": 166,
     "metadata": {},
     "output_type": "execute_result"
    },
    {
     "data": {
      "image/png": "[encoded data removed]",
      "text/plain": [
       "<Figure size 1440x720 with 1 Axes>"
      ]
     },
     "metadata": {},
     "output_type": "display_data"
    }
   ],
   "source": [
    "df_3.boxplot(figsize= (20,10))"
   ]
  },
  {
   "cell_type": "code",
   "execution_count": 167,
   "metadata": {
    "scrolled": false
   },
   "outputs": [
    {
     "data": {
      "text/plain": [
       "<AxesSubplot:>"
      ]
     },
     "execution_count": 167,
     "metadata": {},
     "output_type": "execute_result"
    },
    {
     "data": {
      "image/png": "[encoded data removed]",
      "text/plain": [
       "<Figure size 1440x720 with 1 Axes>"
      ]
     },
     "metadata": {},
     "output_type": "display_data"
    }
   ],
   "source": [
    "df_3_std.boxplot(figsize= (20,10))"
   ]
  },
  {
   "cell_type": "markdown",
   "metadata": {},
   "source": [
    "**2.4 Inference:** Scaling reduces the number of outliers"
   ]
  },
  {
   "cell_type": "markdown",
   "metadata": {},
   "source": [
    "**2.5 Extract the eigenvalues and eigenvectors.[print both]**"
   ]
  },
  {
   "cell_type": "code",
   "execution_count": 176,
   "metadata": {},
   "outputs": [
    {
     "name": "stdout",
     "output_type": "stream",
     "text": [
      "Eigen Values are: \n",
      "\n"
     ]
    },
    {
     "data": {
      "text/plain": [
       "array([5.44350679, 4.47783645, 1.17315581, 1.00690817, 0.93302887,\n",
       "       0.84739916, 0.60500815, 0.58711563, 0.52992973, 0.40378256,\n",
       "       0.02299823, 0.03667818, 0.31304247, 0.08791135, 0.1437932 ,\n",
       "       0.1675782 , 0.22032704])"
      ]
     },
     "execution_count": 176,
     "metadata": {},
     "output_type": "execute_result"
    }
   ],
   "source": [
    "val,vec = np.linalg.eig(cov_mat)\n",
    "\n",
    "print(\"Eigen Values are: \\n\")\n",
    "val"
   ]
  },
  {
   "cell_type": "code",
   "execution_count": 177,
   "metadata": {
    "scrolled": false
   },
   "outputs": [
    {
     "name": "stdout",
     "output_type": "stream",
     "text": [
      "Eigen Vectors are: \n",
      "\n"
     ]
    },
    {
     "data": {
      "text/plain": [
       "array([[-2.48765602e-01,  3.31598227e-01,  6.30921033e-02,\n",
       "        -2.81310530e-01,  5.74140964e-03,  1.62374420e-02,\n",
       "         4.24863486e-02,  1.03090398e-01,  9.02270802e-02,\n",
       "        -5.25098025e-02,  3.58970400e-01, -4.59139498e-01,\n",
       "         4.30462074e-02, -1.33405806e-01,  8.06328039e-02,\n",
       "        -5.95830975e-01,  2.40709086e-02],\n",
       "       [-2.07601502e-01,  3.72116750e-01,  1.01249056e-01,\n",
       "        -2.67817346e-01,  5.57860920e-02, -7.53468452e-03,\n",
       "         1.29497196e-02,  5.62709623e-02,  1.77864814e-01,\n",
       "        -4.11400844e-02, -5.43427250e-01,  5.18568789e-01,\n",
       "        -5.84055850e-02,  1.45497511e-01,  3.34674281e-02,\n",
       "        -2.92642398e-01, -1.45102446e-01],\n",
       "       [-1.76303592e-01,  4.03724252e-01,  8.29855709e-02,\n",
       "        -1.61826771e-01, -5.56936353e-02,  4.25579803e-02,\n",
       "         2.76928937e-02, -5.86623552e-02,  1.28560713e-01,\n",
       "        -3.44879147e-02,  6.09651110e-01,  4.04318439e-01,\n",
       "        -6.93988831e-02, -2.95896092e-02, -8.56967180e-02,\n",
       "         4.44638207e-01,  1.11431545e-02],\n",
       "       [-3.54273947e-01, -8.24118211e-02, -3.50555339e-02,\n",
       "         5.15472524e-02, -3.95434345e-01,  5.26927980e-02,\n",
       "         1.61332069e-01,  1.22678028e-01, -3.41099863e-01,\n",
       "        -6.40257785e-02, -1.44986329e-01,  1.48738723e-01,\n",
       "        -8.10481404e-03, -6.97722522e-01, -1.07828189e-01,\n",
       "        -1.02303616e-03,  3.85543001e-02],\n",
       "       [-3.44001279e-01, -4.47786551e-02,  2.41479376e-02,\n",
       "         1.09766541e-01, -4.26533594e-01, -3.30915896e-02,\n",
       "         1.18485556e-01,  1.02491967e-01, -4.03711989e-01,\n",
       "        -1.45492289e-02,  8.03478445e-02, -5.18683400e-02,\n",
       "        -2.73128469e-01,  6.17274818e-01,  1.51742110e-01,\n",
       "        -2.18838802e-02, -8.93515563e-02],\n",
       "       [-1.54640962e-01,  4.17673774e-01,  6.13929764e-02,\n",
       "        -1.00412335e-01, -4.34543659e-02,  4.34542349e-02,\n",
       "         2.50763629e-02, -7.88896442e-02,  5.94419181e-02,\n",
       "        -2.08471834e-02, -4.14705279e-01, -5.60363054e-01,\n",
       "        -8.11578181e-02, -9.91640992e-03, -5.63728817e-02,\n",
       "         5.23622267e-01,  5.61767721e-02],\n",
       "       [-2.64425045e-02,  3.15087830e-01, -1.39681716e-01,\n",
       "         1.58558487e-01,  3.02385408e-01,  1.91198583e-01,\n",
       "        -6.10423460e-02, -5.70783816e-01, -5.60672902e-01,\n",
       "         2.23105808e-01,  9.01788964e-03,  5.27313042e-02,\n",
       "         1.00693324e-01, -2.09515982e-02,  1.92857500e-02,\n",
       "        -1.25997650e-01, -6.35360730e-02],\n",
       "       [-2.94736419e-01, -2.49643522e-01, -4.65988731e-02,\n",
       "        -1.31291364e-01,  2.22532003e-01,  3.00003910e-02,\n",
       "        -1.08528966e-01, -9.84599754e-03,  4.57332880e-03,\n",
       "        -1.86675363e-01,  5.08995918e-02, -1.01594830e-01,\n",
       "         1.43220673e-01, -3.83544794e-02, -3.40115407e-02,\n",
       "         1.41856014e-01, -8.23443779e-01],\n",
       "       [-2.49030449e-01, -1.37808883e-01, -1.48967389e-01,\n",
       "        -1.84995991e-01,  5.60919470e-01, -1.62755446e-01,\n",
       "        -2.09744235e-01,  2.21453442e-01, -2.75022548e-01,\n",
       "        -2.98324237e-01,  1.14639620e-03,  2.59293381e-02,\n",
       "        -3.59321731e-01, -3.40197083e-03, -5.84289756e-02,\n",
       "         6.97485854e-02,  3.54559731e-01],\n",
       "       [-6.47575181e-02,  5.63418434e-02, -6.77411649e-01,\n",
       "        -8.70892205e-02, -1.27288825e-01, -6.41054950e-01,\n",
       "         1.49692034e-01, -2.13293009e-01,  1.33663353e-01,\n",
       "         8.20292186e-02,  7.72631963e-04, -2.88282896e-03,\n",
       "         3.19400370e-02,  9.43887925e-03, -6.68494643e-02,\n",
       "        -1.14379958e-02, -2.81593679e-02],\n",
       "       [ 4.25285386e-02,  2.19929218e-01, -4.99721120e-01,\n",
       "         2.30710568e-01, -2.22311021e-01,  3.31398003e-01,\n",
       "        -6.33790064e-01,  2.32660840e-01,  9.44688900e-02,\n",
       "        -1.36027616e-01, -1.11433396e-03,  1.28904022e-02,\n",
       "        -1.85784733e-02,  3.09001353e-03,  2.75286207e-02,\n",
       "        -3.94547417e-02, -3.92640266e-02],\n",
       "       [-3.18312875e-01,  5.83113174e-02,  1.27028371e-01,\n",
       "         5.34724832e-01,  1.40166326e-01, -9.12555212e-02,\n",
       "         1.09641298e-03,  7.70400002e-02,  1.85181525e-01,\n",
       "         1.23452200e-01,  1.38133366e-02, -2.98075465e-02,\n",
       "         4.03723253e-02,  1.12055599e-01, -6.91126145e-01,\n",
       "        -1.27696382e-01,  2.32224316e-02],\n",
       "       [-3.17056016e-01,  4.64294477e-02,  6.60375454e-02,\n",
       "         5.19443019e-01,  2.04719730e-01, -1.54927646e-01,\n",
       "         2.84770105e-02,  1.21613297e-02,  2.54938198e-01,\n",
       "         8.85784627e-02,  6.20932749e-03,  2.70759809e-02,\n",
       "        -5.89734026e-02, -1.58909651e-01,  6.71008607e-01,\n",
       "         5.83134662e-02,  1.64850420e-02],\n",
       "       [ 1.76957895e-01,  2.46665277e-01,  2.89848401e-01,\n",
       "         1.61189487e-01, -7.93882496e-02, -4.87045875e-01,\n",
       "        -2.19259358e-01,  8.36048735e-02, -2.74544380e-01,\n",
       "        -4.72045249e-01, -2.22215182e-03,  2.12476294e-02,\n",
       "         4.45000727e-01,  2.08991284e-02,  4.13740967e-02,\n",
       "         1.77152700e-02, -1.10262122e-02],\n",
       "       [-2.05082369e-01, -2.46595274e-01,  1.46989274e-01,\n",
       "        -1.73142230e-02, -2.16297411e-01,  4.73400144e-02,\n",
       "        -2.43321156e-01, -6.78523654e-01,  2.55334907e-01,\n",
       "        -4.22999706e-01, -1.91869743e-02, -3.33406243e-03,\n",
       "        -1.30727978e-01,  8.41789410e-03, -2.71542091e-02,\n",
       "        -1.04088088e-01,  1.82660654e-01],\n",
       "       [-3.18908750e-01, -1.31689865e-01, -2.26743985e-01,\n",
       "        -7.92734946e-02,  7.59581203e-02,  2.98118619e-01,\n",
       "         2.26584481e-01,  5.41593771e-02,  4.91388809e-02,\n",
       "        -1.32286331e-01, -3.53098218e-02,  4.38803230e-02,\n",
       "         6.92088870e-01,  2.27742017e-01,  7.31225166e-02,\n",
       "         9.37464497e-02,  3.25982295e-01],\n",
       "       [-2.52315654e-01, -1.69240532e-01,  2.08064649e-01,\n",
       "        -2.69129066e-01, -1.09267913e-01, -2.16163313e-01,\n",
       "        -5.59943937e-01,  5.33553891e-03, -4.19043052e-02,\n",
       "         5.90271067e-01, -1.30710024e-02,  5.00844705e-03,\n",
       "         2.19839000e-01,  3.39433604e-03,  3.64767385e-02,\n",
       "         6.91969778e-02,  1.22106697e-01]])"
      ]
     },
     "execution_count": 177,
     "metadata": {},
     "output_type": "execute_result"
    }
   ],
   "source": [
    "print(\"Eigen Vectors are: \\n\")\n",
    "vec"
   ]
  },
  {
   "cell_type": "markdown",
   "metadata": {},
   "source": [
    "**2.6 Perform PCA and export the data of the Principal Component (eigenvectors) into a data frame with the original features**"
   ]
  },
  {
   "cell_type": "code",
   "execution_count": 186,
   "metadata": {},
   "outputs": [
    {
     "data": {
      "text/plain": [
       "array([[-1.59183007e+00, -2.19099053e+00, -1.43004259e+00, ...,\n",
       "        -7.32089041e-01,  7.91422962e+00, -4.69205840e-01],\n",
       "       [ 7.66839571e-01, -5.78457386e-01, -1.09211544e+00, ...,\n",
       "        -7.71855228e-02, -2.06699746e+00,  3.66424921e-01],\n",
       "       [-1.01008475e-01,  2.27733123e+00, -4.37810808e-01, ...,\n",
       "        -4.05380784e-04,  2.07222892e+00, -1.32805971e+00],\n",
       "       ...,\n",
       "       [ 6.38032497e-01,  2.36600902e-01, -2.48116274e-01, ...,\n",
       "        -1.31664350e+00,  8.32740169e-02,  1.30647108e+00],\n",
       "       [-8.78820069e-01,  4.68951207e-02,  3.08541750e-01, ...,\n",
       "        -1.28205867e-01, -5.52230138e-01,  6.27005764e-01],\n",
       "       [ 9.30240250e-02,  1.11306351e+00, -1.05384366e-01, ...,\n",
       "         2.12237860e-01,  8.19162707e-02,  7.23095807e-01]])"
      ]
     },
     "execution_count": 186,
     "metadata": {},
     "output_type": "execute_result"
    }
   ],
   "source": [
    "from sklearn.decomposition import PCA\n",
    "pca = PCA(n_components=9)\n",
    "data_reduced = pca.fit_transform(df_3_std)\n",
    "data_reduced.T"
   ]
  },
  {
   "cell_type": "code",
   "execution_count": 179,
   "metadata": {
    "scrolled": false
   },
   "outputs": [
    {
     "data": {
      "text/plain": [
       "array([[ 0.2487656 ,  0.2076015 ,  0.17630359,  0.35427395,  0.34400128,\n",
       "         0.15464096,  0.0264425 ,  0.29473642,  0.24903045,  0.06475752,\n",
       "        -0.04252854,  0.31831287,  0.31705602, -0.17695789,  0.20508237,\n",
       "         0.31890875,  0.25231565],\n",
       "       [ 0.33159823,  0.37211675,  0.40372425, -0.08241182, -0.04477866,\n",
       "         0.41767377,  0.31508783, -0.24964352, -0.13780888,  0.05634184,\n",
       "         0.21992922,  0.05831132,  0.04642945,  0.24666528, -0.24659527,\n",
       "        -0.13168986, -0.16924053],\n",
       "       [-0.0630921 , -0.10124906, -0.08298557,  0.03505553, -0.02414794,\n",
       "        -0.06139298,  0.13968172,  0.04659887,  0.14896739,  0.67741165,\n",
       "         0.49972112, -0.12702837, -0.06603755, -0.2898484 , -0.14698927,\n",
       "         0.22674398, -0.20806465],\n",
       "       [ 0.28131053,  0.26781735,  0.16182677, -0.05154725, -0.10976654,\n",
       "         0.10041234, -0.15855849,  0.13129136,  0.18499599,  0.08708922,\n",
       "        -0.23071057, -0.53472483, -0.51944302, -0.16118949,  0.01731422,\n",
       "         0.07927349,  0.26912907],\n",
       "       [ 0.00574141,  0.05578609, -0.05569364, -0.39543434, -0.42653359,\n",
       "        -0.04345437,  0.30238541,  0.222532  ,  0.56091947, -0.12728883,\n",
       "        -0.22231102,  0.14016633,  0.20471973, -0.07938825, -0.21629741,\n",
       "         0.07595812, -0.10926791],\n",
       "       [-0.01623744,  0.00753468, -0.04255798, -0.0526928 ,  0.03309159,\n",
       "        -0.04345423, -0.19119858, -0.03000039,  0.16275545,  0.64105495,\n",
       "        -0.331398  ,  0.09125552,  0.15492765,  0.48704587, -0.04734001,\n",
       "        -0.29811862,  0.21616331],\n",
       "       [-0.04248635, -0.01294972, -0.02769289, -0.16133207, -0.11848556,\n",
       "        -0.02507636,  0.06104235,  0.10852897,  0.20974423, -0.14969203,\n",
       "         0.63379006, -0.00109641, -0.02847701,  0.21925936,  0.24332116,\n",
       "        -0.22658448,  0.55994394]])"
      ]
     },
     "execution_count": 179,
     "metadata": {},
     "output_type": "execute_result"
    }
   ],
   "source": [
    "pca.components_"
   ]
  },
  {
   "cell_type": "markdown",
   "metadata": {},
   "source": [
    "**2.7 Write down the explicit form of the first PC (in terms of the eigenvectors. Use values with two places of decimals only). [hint: write the linear equation of PC in terms of eigenvectors and corresponding features]**"
   ]
  },
  {
   "cell_type": "markdown",
   "metadata": {},
   "source": [
    "[ -0.25,  0.33,  0.06,\n",
    "\n",
    "-0.28,  0.01,  0.02,\n",
    "\n",
    "0.04,  0.10,  0.09,\n",
    "\n",
    "-0.05,  0.36, -0.46,\n",
    "\n",
    "0.04, -0.13,  0.08,\n",
    "\n",
    "-0.60,  0.02 ]"
   ]
  },
  {
   "cell_type": "markdown",
   "metadata": {},
   "source": [
    "**2.8 Consider the cumulative values of the eigenvalues. How does it help you to decide on the optimum number of principal components? What do the eigenvectors indicate?**"
   ]
  },
  {
   "cell_type": "markdown",
   "metadata": {},
   "source": [
    "Cumulative Percentage helps us decide how many components to select by showing the percentage of variance that those components were able to show.\n",
    "\n",
    "It helps us decide the optimum number of principal components by making sure the correct variance in data is represented.\n",
    "\n",
    "For example: In the diagram below having 9 prinicpal components helps us show more than 90% of the variance, hence 9 may be the ideal number of principal components."
   ]
  },
  {
   "cell_type": "code",
   "execution_count": 193,
   "metadata": {},
   "outputs": [
    {
     "data": {
      "text/plain": [
       "array([32. , 58.3, 65.2, 71.1, 76.6, 81.6, 85.2, 88.7, 91.8])"
      ]
     },
     "execution_count": 193,
     "metadata": {},
     "output_type": "execute_result"
    }
   ],
   "source": [
    "var = np.cumsum(np.round(pca.explained_variance_ratio_,3))*100\n",
    "\n",
    "var"
   ]
  },
  {
   "cell_type": "code",
   "execution_count": 194,
   "metadata": {},
   "outputs": [
    {
     "data": {
      "text/plain": [
       "[<matplotlib.lines.Line2D at 0x29d7d5328b0>]"
      ]
     },
     "execution_count": 194,
     "metadata": {},
     "output_type": "execute_result"
    },
    {
     "data": {
      "image/png": "[encoded data removed]",
      "text/plain": [
       "<Figure size 432x288 with 1 Axes>"
      ]
     },
     "metadata": {},
     "output_type": "display_data"
    }
   ],
   "source": [
    "plt.plot(var)"
   ]
  },
  {
   "cell_type": "markdown",
   "metadata": {},
   "source": [
    "Eigen Vectors indicate the direction of the Principal Components. We can multiply the original data by the them to re-orient our data onto the new axes. "
   ]
  },
  {
   "cell_type": "markdown",
   "metadata": {},
   "source": [
    "**Correlation between components and features:**"
   ]
  },
  {
   "cell_type": "code",
   "execution_count": 189,
   "metadata": {},
   "outputs": [
    {
     "data": {
      "text/html": [
       "<div>\n",
       "<style scoped>\n",
       "    .dataframe tbody tr th:only-of-type {\n",
       "        vertical-align: middle;\n",
       "    }\n",
       "\n",
       "    .dataframe tbody tr th {\n",
       "        vertical-align: top;\n",
       "    }\n",
       "\n",
       "    .dataframe thead th {\n",
       "        text-align: right;\n",
       "    }\n",
       "</style>\n",
       "<table border=\"1\" class=\"dataframe\">\n",
       "  <thead>\n",
       "    <tr style=\"text-align: right;\">\n",
       "      <th></th>\n",
       "      <th>Apps</th>\n",
       "      <th>Accept</th>\n",
       "      <th>Enroll</th>\n",
       "      <th>Top10perc</th>\n",
       "      <th>Top25perc</th>\n",
       "      <th>F.Undergrad</th>\n",
       "      <th>P.Undergrad</th>\n",
       "      <th>Outstate</th>\n",
       "      <th>Room.Board</th>\n",
       "      <th>Books</th>\n",
       "      <th>Personal</th>\n",
       "      <th>PhD</th>\n",
       "      <th>Terminal</th>\n",
       "      <th>S.F.Ratio</th>\n",
       "      <th>perc.alumni</th>\n",
       "      <th>Expend</th>\n",
       "      <th>Grad.Rate</th>\n",
       "    </tr>\n",
       "  </thead>\n",
       "  <tbody>\n",
       "    <tr>\n",
       "      <th>0</th>\n",
       "      <td>0.248766</td>\n",
       "      <td>0.207602</td>\n",
       "      <td>0.176304</td>\n",
       "      <td>0.354274</td>\n",
       "      <td>0.344001</td>\n",
       "      <td>0.154641</td>\n",
       "      <td>0.026443</td>\n",
       "      <td>0.294736</td>\n",
       "      <td>0.249030</td>\n",
       "      <td>0.064758</td>\n",
       "      <td>-0.042529</td>\n",
       "      <td>0.318313</td>\n",
       "      <td>0.317056</td>\n",
       "      <td>-0.176958</td>\n",
       "      <td>0.205082</td>\n",
       "      <td>0.318909</td>\n",
       "      <td>0.252316</td>\n",
       "    </tr>\n",
       "    <tr>\n",
       "      <th>1</th>\n",
       "      <td>0.331598</td>\n",
       "      <td>0.372117</td>\n",
       "      <td>0.403724</td>\n",
       "      <td>-0.082412</td>\n",
       "      <td>-0.044779</td>\n",
       "      <td>0.417674</td>\n",
       "      <td>0.315088</td>\n",
       "      <td>-0.249644</td>\n",
       "      <td>-0.137809</td>\n",
       "      <td>0.056342</td>\n",
       "      <td>0.219929</td>\n",
       "      <td>0.058311</td>\n",
       "      <td>0.046429</td>\n",
       "      <td>0.246665</td>\n",
       "      <td>-0.246595</td>\n",
       "      <td>-0.131690</td>\n",
       "      <td>-0.169241</td>\n",
       "    </tr>\n",
       "    <tr>\n",
       "      <th>2</th>\n",
       "      <td>-0.063092</td>\n",
       "      <td>-0.101249</td>\n",
       "      <td>-0.082986</td>\n",
       "      <td>0.035056</td>\n",
       "      <td>-0.024148</td>\n",
       "      <td>-0.061393</td>\n",
       "      <td>0.139682</td>\n",
       "      <td>0.046599</td>\n",
       "      <td>0.148967</td>\n",
       "      <td>0.677412</td>\n",
       "      <td>0.499721</td>\n",
       "      <td>-0.127028</td>\n",
       "      <td>-0.066038</td>\n",
       "      <td>-0.289848</td>\n",
       "      <td>-0.146989</td>\n",
       "      <td>0.226744</td>\n",
       "      <td>-0.208065</td>\n",
       "    </tr>\n",
       "    <tr>\n",
       "      <th>3</th>\n",
       "      <td>0.281311</td>\n",
       "      <td>0.267817</td>\n",
       "      <td>0.161827</td>\n",
       "      <td>-0.051547</td>\n",
       "      <td>-0.109767</td>\n",
       "      <td>0.100412</td>\n",
       "      <td>-0.158558</td>\n",
       "      <td>0.131291</td>\n",
       "      <td>0.184996</td>\n",
       "      <td>0.087089</td>\n",
       "      <td>-0.230711</td>\n",
       "      <td>-0.534725</td>\n",
       "      <td>-0.519443</td>\n",
       "      <td>-0.161189</td>\n",
       "      <td>0.017314</td>\n",
       "      <td>0.079273</td>\n",
       "      <td>0.269129</td>\n",
       "    </tr>\n",
       "    <tr>\n",
       "      <th>4</th>\n",
       "      <td>0.005741</td>\n",
       "      <td>0.055786</td>\n",
       "      <td>-0.055694</td>\n",
       "      <td>-0.395434</td>\n",
       "      <td>-0.426534</td>\n",
       "      <td>-0.043454</td>\n",
       "      <td>0.302385</td>\n",
       "      <td>0.222532</td>\n",
       "      <td>0.560919</td>\n",
       "      <td>-0.127289</td>\n",
       "      <td>-0.222311</td>\n",
       "      <td>0.140166</td>\n",
       "      <td>0.204720</td>\n",
       "      <td>-0.079388</td>\n",
       "      <td>-0.216297</td>\n",
       "      <td>0.075958</td>\n",
       "      <td>-0.109268</td>\n",
       "    </tr>\n",
       "  </tbody>\n",
       "</table>\n",
       "</div>"
      ],
      "text/plain": [
       "       Apps    Accept    Enroll  Top10perc  Top25perc  F.Undergrad  \\\n",
       "0  0.248766  0.207602  0.176304   0.354274   0.344001     0.154641   \n",
       "1  0.331598  0.372117  0.403724  -0.082412  -0.044779     0.417674   \n",
       "2 -0.063092 -0.101249 -0.082986   0.035056  -0.024148    -0.061393   \n",
       "3  0.281311  0.267817  0.161827  -0.051547  -0.109767     0.100412   \n",
       "4  0.005741  0.055786 -0.055694  -0.395434  -0.426534    -0.043454   \n",
       "\n",
       "   P.Undergrad  Outstate  Room.Board     Books  Personal       PhD  Terminal  \\\n",
       "0     0.026443  0.294736    0.249030  0.064758 -0.042529  0.318313  0.317056   \n",
       "1     0.315088 -0.249644   -0.137809  0.056342  0.219929  0.058311  0.046429   \n",
       "2     0.139682  0.046599    0.148967  0.677412  0.499721 -0.127028 -0.066038   \n",
       "3    -0.158558  0.131291    0.184996  0.087089 -0.230711 -0.534725 -0.519443   \n",
       "4     0.302385  0.222532    0.560919 -0.127289 -0.222311  0.140166  0.204720   \n",
       "\n",
       "   S.F.Ratio  perc.alumni    Expend  Grad.Rate  \n",
       "0  -0.176958     0.205082  0.318909   0.252316  \n",
       "1   0.246665    -0.246595 -0.131690  -0.169241  \n",
       "2  -0.289848    -0.146989  0.226744  -0.208065  \n",
       "3  -0.161189     0.017314  0.079273   0.269129  \n",
       "4  -0.079388    -0.216297  0.075958  -0.109268  "
      ]
     },
     "execution_count": 189,
     "metadata": {},
     "output_type": "execute_result"
    }
   ],
   "source": [
    "df_comp = pd.DataFrame(pca.components_,columns = list(df_3_std))\n",
    "df_comp.head()"
   ]
  },
  {
   "cell_type": "code",
   "execution_count": 191,
   "metadata": {
    "scrolled": false
   },
   "outputs": [
    {
     "data": {
      "text/plain": [
       "<AxesSubplot:>"
      ]
     },
     "execution_count": 191,
     "metadata": {},
     "output_type": "execute_result"
    },
    {
     "data": {
      "image/png": "[encoded data removed]",
      "text/plain": [
       "<Figure size 864x432 with 2 Axes>"
      ]
     },
     "metadata": {},
     "output_type": "display_data"
    }
   ],
   "source": [
    "plt.figure(figsize=(12,6))\n",
    "sns.heatmap(df_comp,cmap=\"plasma\", annot=True)"
   ]
  },
  {
   "cell_type": "markdown",
   "metadata": {},
   "source": [
    "**2.9 Explain the business implication of using the Principal Component Analysis for this case study. How may PCs help in the further analysis? [Hint: Write Interpretations of the Principal Components Obtained]**"
   ]
  },
  {
   "cell_type": "markdown",
   "metadata": {},
   "source": [
    "- 9 Principal components are enough to represent more than 90% of the variance in the data.\n",
    "- The dimensionality of the data can be reduced from 17 to 9.\n",
    "- PCA 0 explains: Explains Top10perc and Top25perc.\n",
    "- PCA 1 explains: Enroll and F.Undergrad.\n",
    "- PCA 2 explains: Books and Personal.\n",
    "- PCA 3 explains: PhD and Terminal.\n",
    "- PCA 4 explains: Top10perc, Top25perc and Room.Board.\n",
    "- PCA 5 explains: Books and Personal.\n",
    "- PCA 6 explains: Personal and Grad Rate.\n",
    "- PCA 7 explains: perc.alumini and P.Undergrad.\n",
    "- PCA 8 explains: P.Undergrad and Top25perc."
   ]
  }
 ],
 "metadata": {
  "kernelspec": {
   "display_name": "Python 3",
   "language": "python",
   "name": "python3"
  },
  "language_info": {
   "codemirror_mode": {
    "name": "ipython",
    "version": 3
   },
   "file_extension": ".py",
   "mimetype": "text/x-python",
   "name": "python",
   "nbconvert_exporter": "python",
   "pygments_lexer": "ipython3",
   "version": "3.8.5"
  }
 },
 "nbformat": 4,
 "nbformat_minor": 4
}
